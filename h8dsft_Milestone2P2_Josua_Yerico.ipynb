{
  "cells": [
    {
      "cell_type": "markdown",
      "metadata": {
        "id": "PGrCuPzNdhoo"
      },
      "source": [
        "# **1 - Perkenalanan**"
      ]
    },
    {
      "cell_type": "markdown",
      "metadata": {
        "id": "eobbBnNBdho6"
      },
      "source": [
        "Nama. : Josua Yerico\n",
        "\n",
        "Batch : FTDS-001-Hck\n",
        "\n",
        "Dataset : mentalhealth.csv\n",
        "\n",
        "Objective : Pembuatan Chatbox untuk menjawab pertanyaan user/pasien/masyarakat tentang kesehatan mengunakan model LSTM"
      ]
    },
    {
      "cell_type": "markdown",
      "metadata": {
        "id": "U9Yxei1mwoc9"
      },
      "source": [
        "# **2 - Background Problem**"
      ]
    },
    {
      "cell_type": "markdown",
      "metadata": {
        "id": "s-xidwqewxnY"
      },
      "source": [
        "Chatterbot (chatbot) adalah sebuah program komputer yang dirancang untuk menyimulasikan percakapan intelektual dengan satu atau lebih manusia baik secara audio maupun teks. \n",
        "\n",
        "pada era digital, mayoritas masyarakat lebih banyak menghabiskan waktunya mengunakan aplikasi chat/text. selain itu, berdasarkan data (sumber: https://99firms.com/blog/generation-z-statistics/#gref), 73% dari 24 jam  waktu gen z dihabiskan untuk chattingan dan 17% dari 24 jam waktu gen z dihabiskan untuk browsing. hal tersebut mengartikan bahwa gen z lebih suka menghabiskan waktunya untuk bertanya, mengali informasi, dan memulai percakapan dengan teman daripada melalui media internet/browsing. akan tetapi informasi tentang kesehatan/penyakit dari teman dapat berpotensi salah/HOAX atau menyebabkan seseorang tersebut menjadi paranoid terhadap penyakit tertentu.\n",
        "\n",
        "Selain itu, berita yang tidak benar/HOAX terhadap penyakit tertentu juga dapat menyebabkan seseorang menyepelekan penyakit tersebut, kemudian beranggapan bahwa penyakit tersebut tidak berbahayadan dapat disembuhkan dengan obat - obatan yang ada di warung. jika penyakit tersebut memang bisa disembuhkan oleh obat - obatan diwarung, maka seseorang tersebut akan pulih atau sembuh. terus bagaimana ketika seseorang mengonsumsi obat - obatan di warung dan membuat penyakit seseorang menjadi lebih parah atau menambah penyakit baru.\n",
        "\n",
        "sebagai contoh Budi memiliki gejala penyakit batuk - batuk seperti penyakit flu pada umumnya selama 14 hari. kemudian Budi menanyakan ke temannya dan temannya menyarankan kepada budi untuk membiarkan batuk - batuk tersebut karena batuk tersebut akan sembuh sendiri seiring berjalan waktu. Budi pun mendengarkan temannya. setelah dua minggu kemudian, batuk - batuk budi pun makin parah dan teman budi pun tetap menyarankan budi untuk sabar karena batuk tersebut akan sembuh sendiri. temannya budi berkata demikian karena dia pernah mengalami hal yang serupa dan pada akhirnya sembuh tanpa obat. setelah sebulan kemudian, batuk - batuk pada budi pun makin parah dan membuat budi untuk periksa ke rumah sakit dan hasil nya budi diagnosis penyakit TBC akut dan  harus segera diobati. jika budi pada waktu itu langsung berobat tanpa bertanya kepada temannya, mungkin saat itu budi tidak diagnosis penyakit TBC akut.\n",
        "\n",
        "Oleh sebab itu, PT INIPEDIA pun ingin meminimalisir hal demikian tanpa si user (gen z) kesulitan untuk mencari informasi mengenai penyakit/kesehatan.\n",
        "\n",
        "Supaya user(gen z) bisa mendapatkan informasi yang akurat tentang kesehatan/penyakit sekaligus dapat memenuhi kebutuhan sosial dari user (gen z), PT INIPEDIA membuat suatu aplikasi chatbot dimana user dapat chattingan dengan bot dan bertanya-tanya seputar informasi kepada bot tentang ciri - ciri penyakit, gejala dari penyakit tersebut, cara mencegah supaya tidak terkena penyakit tersebut, dsb."
      ]
    },
    {
      "cell_type": "markdown",
      "metadata": {
        "id": "uYhPk2xQdho7"
      },
      "source": [
        "# **3 - Import Libaries**"
      ]
    },
    {
      "cell_type": "code",
      "execution_count": null,
      "metadata": {
        "id": "wmaQ8GwVdho8"
      },
      "outputs": [],
      "source": [
        "#Define libaries\n",
        "import pandas as pd\n",
        "import matplotlib.pyplot as plt\n",
        "import numpy as np\n",
        "\n",
        "#for Saving Model\n",
        "import pickle\n",
        "\n",
        "#for Data Preprocessing\n",
        "import string\n",
        "import re\n",
        "from tensorflow.keras.preprocessing.text import Tokenizer\n",
        "from tensorflow.keras.preprocessing.sequence import pad_sequences\n",
        "\n",
        "#for Model and Evaluation Model\n",
        "import tensorflow as tf\n",
        "from tensorflow.keras.layers import TextVectorization, Embedding\n",
        "from tensorflow.keras.utils import to_categorical\n",
        "from tensorflow.keras.layers import Dense, Input, LSTM \n",
        "from tensorflow.keras.models import Model, Sequential\n",
        "from keras.utils.vis_utils import plot_model"
      ]
    },
    {
      "cell_type": "markdown",
      "metadata": {
        "id": "hP0zzrScdho_"
      },
      "source": [
        "# **4 - Data Loading**"
      ]
    },
    {
      "cell_type": "markdown",
      "metadata": {
        "id": "Y-m-CA3i1zqq"
      },
      "source": [
        "Berikut dataset yang digunakan dalam pembuatan chatbot untuk menjawab semua pertanyaan dari user tentang kesehatan/penyakit. akan tetapi, dalam uji coba pembuatan chatbot tersebut digunakan dataset mental health dan covid-19. setelah model dapat menjawab semua pertanyaan tentang mental health dan covid-19, akan dilakukan perkembangan model dengan semua penyakit."
      ]
    },
    {
      "cell_type": "code",
      "execution_count": null,
      "metadata": {
        "colab": {
          "base_uri": "https://localhost:8080/",
          "height": 423
        },
        "id": "5JlWPBGldhpA",
        "outputId": "2981a5fd-9878-4171-9910-e95b7f218ea1"
      },
      "outputs": [
        {
          "data": {
            "text/html": [
              "\n",
              "  <div id=\"df-b7dd54e2-b508-4c97-a2b4-f30904db2fb8\">\n",
              "    <div class=\"colab-df-container\">\n",
              "      <div>\n",
              "<style scoped>\n",
              "    .dataframe tbody tr th:only-of-type {\n",
              "        vertical-align: middle;\n",
              "    }\n",
              "\n",
              "    .dataframe tbody tr th {\n",
              "        vertical-align: top;\n",
              "    }\n",
              "\n",
              "    .dataframe thead th {\n",
              "        text-align: right;\n",
              "    }\n",
              "</style>\n",
              "<table border=\"1\" class=\"dataframe\">\n",
              "  <thead>\n",
              "    <tr style=\"text-align: right;\">\n",
              "      <th></th>\n",
              "      <th>Questions</th>\n",
              "      <th>Answers</th>\n",
              "    </tr>\n",
              "  </thead>\n",
              "  <tbody>\n",
              "    <tr>\n",
              "      <th>0</th>\n",
              "      <td>What does it mean to have a mental illness?</td>\n",
              "      <td>Mental illnesses are health conditions that di...</td>\n",
              "    </tr>\n",
              "    <tr>\n",
              "      <th>1</th>\n",
              "      <td>Who does mental illness affect?</td>\n",
              "      <td>Mental illness does can affect anyone, regardl...</td>\n",
              "    </tr>\n",
              "    <tr>\n",
              "      <th>2</th>\n",
              "      <td>What are some of the warning signs of mental i...</td>\n",
              "      <td>Symptoms of mental health disorders vary depen...</td>\n",
              "    </tr>\n",
              "    <tr>\n",
              "      <th>3</th>\n",
              "      <td>Can people with mental illness recover?</td>\n",
              "      <td>When healing from mental illness, early identi...</td>\n",
              "    </tr>\n",
              "    <tr>\n",
              "      <th>4</th>\n",
              "      <td>What should I do if I know someone who appears...</td>\n",
              "      <td>We encourage those with symptoms to talk to th...</td>\n",
              "    </tr>\n",
              "    <tr>\n",
              "      <th>...</th>\n",
              "      <td>...</td>\n",
              "      <td>...</td>\n",
              "    </tr>\n",
              "    <tr>\n",
              "      <th>177</th>\n",
              "      <td>Are smokers and tobacco users at higher risk o...</td>\n",
              "      <td>Smokers are likely to be more vulnerable to CO...</td>\n",
              "    </tr>\n",
              "    <tr>\n",
              "      <th>178</th>\n",
              "      <td>Are smokers and tobacco users at higher risk o...</td>\n",
              "      <td>Smoking products such as water pipes often inv...</td>\n",
              "    </tr>\n",
              "    <tr>\n",
              "      <th>179</th>\n",
              "      <td>How large does a meeting or event need to be i...</td>\n",
              "      <td>High profile international sporting events suc...</td>\n",
              "    </tr>\n",
              "    <tr>\n",
              "      <th>180</th>\n",
              "      <td>How large does a meeting or event need to be i...</td>\n",
              "      <td>An event counts as a mass gatherings if the ...</td>\n",
              "    </tr>\n",
              "    <tr>\n",
              "      <th>181</th>\n",
              "      <td>Does WHO recommend that all international mass...</td>\n",
              "      <td>No. As each international mass gathering is di...</td>\n",
              "    </tr>\n",
              "  </tbody>\n",
              "</table>\n",
              "<p>182 rows × 2 columns</p>\n",
              "</div>\n",
              "      <button class=\"colab-df-convert\" onclick=\"convertToInteractive('df-b7dd54e2-b508-4c97-a2b4-f30904db2fb8')\"\n",
              "              title=\"Convert this dataframe to an interactive table.\"\n",
              "              style=\"display:none;\">\n",
              "        \n",
              "  <svg xmlns=\"http://www.w3.org/2000/svg\" height=\"24px\"viewBox=\"0 0 24 24\"\n",
              "       width=\"24px\">\n",
              "    <path d=\"M0 0h24v24H0V0z\" fill=\"none\"/>\n",
              "    <path d=\"M18.56 5.44l.94 2.06.94-2.06 2.06-.94-2.06-.94-.94-2.06-.94 2.06-2.06.94zm-11 1L8.5 8.5l.94-2.06 2.06-.94-2.06-.94L8.5 2.5l-.94 2.06-2.06.94zm10 10l.94 2.06.94-2.06 2.06-.94-2.06-.94-.94-2.06-.94 2.06-2.06.94z\"/><path d=\"M17.41 7.96l-1.37-1.37c-.4-.4-.92-.59-1.43-.59-.52 0-1.04.2-1.43.59L10.3 9.45l-7.72 7.72c-.78.78-.78 2.05 0 2.83L4 21.41c.39.39.9.59 1.41.59.51 0 1.02-.2 1.41-.59l7.78-7.78 2.81-2.81c.8-.78.8-2.07 0-2.86zM5.41 20L4 18.59l7.72-7.72 1.47 1.35L5.41 20z\"/>\n",
              "  </svg>\n",
              "      </button>\n",
              "      \n",
              "  <style>\n",
              "    .colab-df-container {\n",
              "      display:flex;\n",
              "      flex-wrap:wrap;\n",
              "      gap: 12px;\n",
              "    }\n",
              "\n",
              "    .colab-df-convert {\n",
              "      background-color: #E8F0FE;\n",
              "      border: none;\n",
              "      border-radius: 50%;\n",
              "      cursor: pointer;\n",
              "      display: none;\n",
              "      fill: #1967D2;\n",
              "      height: 32px;\n",
              "      padding: 0 0 0 0;\n",
              "      width: 32px;\n",
              "    }\n",
              "\n",
              "    .colab-df-convert:hover {\n",
              "      background-color: #E2EBFA;\n",
              "      box-shadow: 0px 1px 2px rgba(60, 64, 67, 0.3), 0px 1px 3px 1px rgba(60, 64, 67, 0.15);\n",
              "      fill: #174EA6;\n",
              "    }\n",
              "\n",
              "    [theme=dark] .colab-df-convert {\n",
              "      background-color: #3B4455;\n",
              "      fill: #D2E3FC;\n",
              "    }\n",
              "\n",
              "    [theme=dark] .colab-df-convert:hover {\n",
              "      background-color: #434B5C;\n",
              "      box-shadow: 0px 1px 3px 1px rgba(0, 0, 0, 0.15);\n",
              "      filter: drop-shadow(0px 1px 2px rgba(0, 0, 0, 0.3));\n",
              "      fill: #FFFFFF;\n",
              "    }\n",
              "  </style>\n",
              "\n",
              "      <script>\n",
              "        const buttonEl =\n",
              "          document.querySelector('#df-b7dd54e2-b508-4c97-a2b4-f30904db2fb8 button.colab-df-convert');\n",
              "        buttonEl.style.display =\n",
              "          google.colab.kernel.accessAllowed ? 'block' : 'none';\n",
              "\n",
              "        async function convertToInteractive(key) {\n",
              "          const element = document.querySelector('#df-b7dd54e2-b508-4c97-a2b4-f30904db2fb8');\n",
              "          const dataTable =\n",
              "            await google.colab.kernel.invokeFunction('convertToInteractive',\n",
              "                                                     [key], {});\n",
              "          if (!dataTable) return;\n",
              "\n",
              "          const docLinkHtml = 'Like what you see? Visit the ' +\n",
              "            '<a target=\"_blank\" href=https://colab.research.google.com/notebooks/data_table.ipynb>data table notebook</a>'\n",
              "            + ' to learn more about interactive tables.';\n",
              "          element.innerHTML = '';\n",
              "          dataTable['output_type'] = 'display_data';\n",
              "          await google.colab.output.renderOutput(dataTable, element);\n",
              "          const docLink = document.createElement('div');\n",
              "          docLink.innerHTML = docLinkHtml;\n",
              "          element.appendChild(docLink);\n",
              "        }\n",
              "      </script>\n",
              "    </div>\n",
              "  </div>\n",
              "  "
            ],
            "text/plain": [
              "                                             Questions  \\\n",
              "0          What does it mean to have a mental illness?   \n",
              "1                      Who does mental illness affect?   \n",
              "2    What are some of the warning signs of mental i...   \n",
              "3              Can people with mental illness recover?   \n",
              "4    What should I do if I know someone who appears...   \n",
              "..                                                 ...   \n",
              "177  Are smokers and tobacco users at higher risk o...   \n",
              "178  Are smokers and tobacco users at higher risk o...   \n",
              "179  How large does a meeting or event need to be i...   \n",
              "180  How large does a meeting or event need to be i...   \n",
              "181  Does WHO recommend that all international mass...   \n",
              "\n",
              "                                               Answers  \n",
              "0    Mental illnesses are health conditions that di...  \n",
              "1    Mental illness does can affect anyone, regardl...  \n",
              "2    Symptoms of mental health disorders vary depen...  \n",
              "3    When healing from mental illness, early identi...  \n",
              "4    We encourage those with symptoms to talk to th...  \n",
              "..                                                 ...  \n",
              "177  Smokers are likely to be more vulnerable to CO...  \n",
              "178  Smoking products such as water pipes often inv...  \n",
              "179  High profile international sporting events suc...  \n",
              "180  An event counts as a mass gatherings if the ...  \n",
              "181  No. As each international mass gathering is di...  \n",
              "\n",
              "[182 rows x 2 columns]"
            ]
          },
          "execution_count": 2,
          "metadata": {},
          "output_type": "execute_result"
        }
      ],
      "source": [
        "data = pd.read_csv(\"/content/sample_data/mentalhealth.csv\",encoding='latin-1')\n",
        "data"
      ]
    },
    {
      "cell_type": "markdown",
      "metadata": {
        "id": "9XuLhbR72yWu"
      },
      "source": [
        "Berikut dataset mental health yang digunakan dalam pembuatan chatbot:"
      ]
    },
    {
      "cell_type": "code",
      "execution_count": null,
      "metadata": {
        "colab": {
          "base_uri": "https://localhost:8080/",
          "height": 206
        },
        "id": "qi3qYAyqdhpB",
        "outputId": "dd8a8b59-599d-4bfc-b593-73ecee4d576c"
      },
      "outputs": [
        {
          "data": {
            "text/html": [
              "\n",
              "  <div id=\"df-75ddf7dc-f8f7-4983-954f-d7149c1c1d5a\">\n",
              "    <div class=\"colab-df-container\">\n",
              "      <div>\n",
              "<style scoped>\n",
              "    .dataframe tbody tr th:only-of-type {\n",
              "        vertical-align: middle;\n",
              "    }\n",
              "\n",
              "    .dataframe tbody tr th {\n",
              "        vertical-align: top;\n",
              "    }\n",
              "\n",
              "    .dataframe thead th {\n",
              "        text-align: right;\n",
              "    }\n",
              "</style>\n",
              "<table border=\"1\" class=\"dataframe\">\n",
              "  <thead>\n",
              "    <tr style=\"text-align: right;\">\n",
              "      <th></th>\n",
              "      <th>Questions</th>\n",
              "      <th>Answers</th>\n",
              "    </tr>\n",
              "  </thead>\n",
              "  <tbody>\n",
              "    <tr>\n",
              "      <th>0</th>\n",
              "      <td>What does it mean to have a mental illness?</td>\n",
              "      <td>Mental illnesses are health conditions that di...</td>\n",
              "    </tr>\n",
              "    <tr>\n",
              "      <th>1</th>\n",
              "      <td>Who does mental illness affect?</td>\n",
              "      <td>Mental illness does can affect anyone, regardl...</td>\n",
              "    </tr>\n",
              "    <tr>\n",
              "      <th>2</th>\n",
              "      <td>What are some of the warning signs of mental i...</td>\n",
              "      <td>Symptoms of mental health disorders vary depen...</td>\n",
              "    </tr>\n",
              "    <tr>\n",
              "      <th>3</th>\n",
              "      <td>Can people with mental illness recover?</td>\n",
              "      <td>When healing from mental illness, early identi...</td>\n",
              "    </tr>\n",
              "    <tr>\n",
              "      <th>4</th>\n",
              "      <td>What should I do if I know someone who appears...</td>\n",
              "      <td>We encourage those with symptoms to talk to th...</td>\n",
              "    </tr>\n",
              "  </tbody>\n",
              "</table>\n",
              "</div>\n",
              "      <button class=\"colab-df-convert\" onclick=\"convertToInteractive('df-75ddf7dc-f8f7-4983-954f-d7149c1c1d5a')\"\n",
              "              title=\"Convert this dataframe to an interactive table.\"\n",
              "              style=\"display:none;\">\n",
              "        \n",
              "  <svg xmlns=\"http://www.w3.org/2000/svg\" height=\"24px\"viewBox=\"0 0 24 24\"\n",
              "       width=\"24px\">\n",
              "    <path d=\"M0 0h24v24H0V0z\" fill=\"none\"/>\n",
              "    <path d=\"M18.56 5.44l.94 2.06.94-2.06 2.06-.94-2.06-.94-.94-2.06-.94 2.06-2.06.94zm-11 1L8.5 8.5l.94-2.06 2.06-.94-2.06-.94L8.5 2.5l-.94 2.06-2.06.94zm10 10l.94 2.06.94-2.06 2.06-.94-2.06-.94-.94-2.06-.94 2.06-2.06.94z\"/><path d=\"M17.41 7.96l-1.37-1.37c-.4-.4-.92-.59-1.43-.59-.52 0-1.04.2-1.43.59L10.3 9.45l-7.72 7.72c-.78.78-.78 2.05 0 2.83L4 21.41c.39.39.9.59 1.41.59.51 0 1.02-.2 1.41-.59l7.78-7.78 2.81-2.81c.8-.78.8-2.07 0-2.86zM5.41 20L4 18.59l7.72-7.72 1.47 1.35L5.41 20z\"/>\n",
              "  </svg>\n",
              "      </button>\n",
              "      \n",
              "  <style>\n",
              "    .colab-df-container {\n",
              "      display:flex;\n",
              "      flex-wrap:wrap;\n",
              "      gap: 12px;\n",
              "    }\n",
              "\n",
              "    .colab-df-convert {\n",
              "      background-color: #E8F0FE;\n",
              "      border: none;\n",
              "      border-radius: 50%;\n",
              "      cursor: pointer;\n",
              "      display: none;\n",
              "      fill: #1967D2;\n",
              "      height: 32px;\n",
              "      padding: 0 0 0 0;\n",
              "      width: 32px;\n",
              "    }\n",
              "\n",
              "    .colab-df-convert:hover {\n",
              "      background-color: #E2EBFA;\n",
              "      box-shadow: 0px 1px 2px rgba(60, 64, 67, 0.3), 0px 1px 3px 1px rgba(60, 64, 67, 0.15);\n",
              "      fill: #174EA6;\n",
              "    }\n",
              "\n",
              "    [theme=dark] .colab-df-convert {\n",
              "      background-color: #3B4455;\n",
              "      fill: #D2E3FC;\n",
              "    }\n",
              "\n",
              "    [theme=dark] .colab-df-convert:hover {\n",
              "      background-color: #434B5C;\n",
              "      box-shadow: 0px 1px 3px 1px rgba(0, 0, 0, 0.15);\n",
              "      filter: drop-shadow(0px 1px 2px rgba(0, 0, 0, 0.3));\n",
              "      fill: #FFFFFF;\n",
              "    }\n",
              "  </style>\n",
              "\n",
              "      <script>\n",
              "        const buttonEl =\n",
              "          document.querySelector('#df-75ddf7dc-f8f7-4983-954f-d7149c1c1d5a button.colab-df-convert');\n",
              "        buttonEl.style.display =\n",
              "          google.colab.kernel.accessAllowed ? 'block' : 'none';\n",
              "\n",
              "        async function convertToInteractive(key) {\n",
              "          const element = document.querySelector('#df-75ddf7dc-f8f7-4983-954f-d7149c1c1d5a');\n",
              "          const dataTable =\n",
              "            await google.colab.kernel.invokeFunction('convertToInteractive',\n",
              "                                                     [key], {});\n",
              "          if (!dataTable) return;\n",
              "\n",
              "          const docLinkHtml = 'Like what you see? Visit the ' +\n",
              "            '<a target=\"_blank\" href=https://colab.research.google.com/notebooks/data_table.ipynb>data table notebook</a>'\n",
              "            + ' to learn more about interactive tables.';\n",
              "          element.innerHTML = '';\n",
              "          dataTable['output_type'] = 'display_data';\n",
              "          await google.colab.output.renderOutput(dataTable, element);\n",
              "          const docLink = document.createElement('div');\n",
              "          docLink.innerHTML = docLinkHtml;\n",
              "          element.appendChild(docLink);\n",
              "        }\n",
              "      </script>\n",
              "    </div>\n",
              "  </div>\n",
              "  "
            ],
            "text/plain": [
              "                                           Questions  \\\n",
              "0        What does it mean to have a mental illness?   \n",
              "1                    Who does mental illness affect?   \n",
              "2  What are some of the warning signs of mental i...   \n",
              "3            Can people with mental illness recover?   \n",
              "4  What should I do if I know someone who appears...   \n",
              "\n",
              "                                             Answers  \n",
              "0  Mental illnesses are health conditions that di...  \n",
              "1  Mental illness does can affect anyone, regardl...  \n",
              "2  Symptoms of mental health disorders vary depen...  \n",
              "3  When healing from mental illness, early identi...  \n",
              "4  We encourage those with symptoms to talk to th...  "
            ]
          },
          "execution_count": 3,
          "metadata": {},
          "output_type": "execute_result"
        }
      ],
      "source": [
        "data.head()"
      ]
    },
    {
      "cell_type": "markdown",
      "metadata": {
        "id": "GIzQlXEs3Af2"
      },
      "source": [
        "Berikut Dataset Covid-19 yang digunakan dalam pembuatan chatbot:"
      ]
    },
    {
      "cell_type": "code",
      "execution_count": null,
      "metadata": {
        "colab": {
          "base_uri": "https://localhost:8080/",
          "height": 206
        },
        "id": "bTdTQ00adhpD",
        "outputId": "fb85f6c3-fa15-4c2e-f89a-4e05a1ae4610"
      },
      "outputs": [
        {
          "data": {
            "text/html": [
              "\n",
              "  <div id=\"df-b930bfc8-5b2e-4162-ab27-12520819e0db\">\n",
              "    <div class=\"colab-df-container\">\n",
              "      <div>\n",
              "<style scoped>\n",
              "    .dataframe tbody tr th:only-of-type {\n",
              "        vertical-align: middle;\n",
              "    }\n",
              "\n",
              "    .dataframe tbody tr th {\n",
              "        vertical-align: top;\n",
              "    }\n",
              "\n",
              "    .dataframe thead th {\n",
              "        text-align: right;\n",
              "    }\n",
              "</style>\n",
              "<table border=\"1\" class=\"dataframe\">\n",
              "  <thead>\n",
              "    <tr style=\"text-align: right;\">\n",
              "      <th></th>\n",
              "      <th>Questions</th>\n",
              "      <th>Answers</th>\n",
              "    </tr>\n",
              "  </thead>\n",
              "  <tbody>\n",
              "    <tr>\n",
              "      <th>177</th>\n",
              "      <td>Are smokers and tobacco users at higher risk o...</td>\n",
              "      <td>Smokers are likely to be more vulnerable to CO...</td>\n",
              "    </tr>\n",
              "    <tr>\n",
              "      <th>178</th>\n",
              "      <td>Are smokers and tobacco users at higher risk o...</td>\n",
              "      <td>Smoking products such as water pipes often inv...</td>\n",
              "    </tr>\n",
              "    <tr>\n",
              "      <th>179</th>\n",
              "      <td>How large does a meeting or event need to be i...</td>\n",
              "      <td>High profile international sporting events suc...</td>\n",
              "    </tr>\n",
              "    <tr>\n",
              "      <th>180</th>\n",
              "      <td>How large does a meeting or event need to be i...</td>\n",
              "      <td>An event counts as a mass gatherings if the ...</td>\n",
              "    </tr>\n",
              "    <tr>\n",
              "      <th>181</th>\n",
              "      <td>Does WHO recommend that all international mass...</td>\n",
              "      <td>No. As each international mass gathering is di...</td>\n",
              "    </tr>\n",
              "  </tbody>\n",
              "</table>\n",
              "</div>\n",
              "      <button class=\"colab-df-convert\" onclick=\"convertToInteractive('df-b930bfc8-5b2e-4162-ab27-12520819e0db')\"\n",
              "              title=\"Convert this dataframe to an interactive table.\"\n",
              "              style=\"display:none;\">\n",
              "        \n",
              "  <svg xmlns=\"http://www.w3.org/2000/svg\" height=\"24px\"viewBox=\"0 0 24 24\"\n",
              "       width=\"24px\">\n",
              "    <path d=\"M0 0h24v24H0V0z\" fill=\"none\"/>\n",
              "    <path d=\"M18.56 5.44l.94 2.06.94-2.06 2.06-.94-2.06-.94-.94-2.06-.94 2.06-2.06.94zm-11 1L8.5 8.5l.94-2.06 2.06-.94-2.06-.94L8.5 2.5l-.94 2.06-2.06.94zm10 10l.94 2.06.94-2.06 2.06-.94-2.06-.94-.94-2.06-.94 2.06-2.06.94z\"/><path d=\"M17.41 7.96l-1.37-1.37c-.4-.4-.92-.59-1.43-.59-.52 0-1.04.2-1.43.59L10.3 9.45l-7.72 7.72c-.78.78-.78 2.05 0 2.83L4 21.41c.39.39.9.59 1.41.59.51 0 1.02-.2 1.41-.59l7.78-7.78 2.81-2.81c.8-.78.8-2.07 0-2.86zM5.41 20L4 18.59l7.72-7.72 1.47 1.35L5.41 20z\"/>\n",
              "  </svg>\n",
              "      </button>\n",
              "      \n",
              "  <style>\n",
              "    .colab-df-container {\n",
              "      display:flex;\n",
              "      flex-wrap:wrap;\n",
              "      gap: 12px;\n",
              "    }\n",
              "\n",
              "    .colab-df-convert {\n",
              "      background-color: #E8F0FE;\n",
              "      border: none;\n",
              "      border-radius: 50%;\n",
              "      cursor: pointer;\n",
              "      display: none;\n",
              "      fill: #1967D2;\n",
              "      height: 32px;\n",
              "      padding: 0 0 0 0;\n",
              "      width: 32px;\n",
              "    }\n",
              "\n",
              "    .colab-df-convert:hover {\n",
              "      background-color: #E2EBFA;\n",
              "      box-shadow: 0px 1px 2px rgba(60, 64, 67, 0.3), 0px 1px 3px 1px rgba(60, 64, 67, 0.15);\n",
              "      fill: #174EA6;\n",
              "    }\n",
              "\n",
              "    [theme=dark] .colab-df-convert {\n",
              "      background-color: #3B4455;\n",
              "      fill: #D2E3FC;\n",
              "    }\n",
              "\n",
              "    [theme=dark] .colab-df-convert:hover {\n",
              "      background-color: #434B5C;\n",
              "      box-shadow: 0px 1px 3px 1px rgba(0, 0, 0, 0.15);\n",
              "      filter: drop-shadow(0px 1px 2px rgba(0, 0, 0, 0.3));\n",
              "      fill: #FFFFFF;\n",
              "    }\n",
              "  </style>\n",
              "\n",
              "      <script>\n",
              "        const buttonEl =\n",
              "          document.querySelector('#df-b930bfc8-5b2e-4162-ab27-12520819e0db button.colab-df-convert');\n",
              "        buttonEl.style.display =\n",
              "          google.colab.kernel.accessAllowed ? 'block' : 'none';\n",
              "\n",
              "        async function convertToInteractive(key) {\n",
              "          const element = document.querySelector('#df-b930bfc8-5b2e-4162-ab27-12520819e0db');\n",
              "          const dataTable =\n",
              "            await google.colab.kernel.invokeFunction('convertToInteractive',\n",
              "                                                     [key], {});\n",
              "          if (!dataTable) return;\n",
              "\n",
              "          const docLinkHtml = 'Like what you see? Visit the ' +\n",
              "            '<a target=\"_blank\" href=https://colab.research.google.com/notebooks/data_table.ipynb>data table notebook</a>'\n",
              "            + ' to learn more about interactive tables.';\n",
              "          element.innerHTML = '';\n",
              "          dataTable['output_type'] = 'display_data';\n",
              "          await google.colab.output.renderOutput(dataTable, element);\n",
              "          const docLink = document.createElement('div');\n",
              "          docLink.innerHTML = docLinkHtml;\n",
              "          element.appendChild(docLink);\n",
              "        }\n",
              "      </script>\n",
              "    </div>\n",
              "  </div>\n",
              "  "
            ],
            "text/plain": [
              "                                             Questions  \\\n",
              "177  Are smokers and tobacco users at higher risk o...   \n",
              "178  Are smokers and tobacco users at higher risk o...   \n",
              "179  How large does a meeting or event need to be i...   \n",
              "180  How large does a meeting or event need to be i...   \n",
              "181  Does WHO recommend that all international mass...   \n",
              "\n",
              "                                               Answers  \n",
              "177  Smokers are likely to be more vulnerable to CO...  \n",
              "178  Smoking products such as water pipes often inv...  \n",
              "179  High profile international sporting events suc...  \n",
              "180  An event counts as a mass gatherings if the ...  \n",
              "181  No. As each international mass gathering is di...  "
            ]
          },
          "execution_count": 4,
          "metadata": {},
          "output_type": "execute_result"
        }
      ],
      "source": [
        "data.tail()"
      ]
    },
    {
      "cell_type": "markdown",
      "metadata": {
        "id": "bKp9GTB8dhpE"
      },
      "source": [
        "# **4 - Data Preprocessing**"
      ]
    },
    {
      "cell_type": "markdown",
      "metadata": {
        "id": "irx-mrzHdhpF"
      },
      "source": [
        "Pada segmen ini dilakukan beberapa hal, yaitu:\n",
        "\n",
        "- Ubah teks ke lowercase\n",
        "- Menghilangkan karakter yang tidak diperlukan\n",
        "\n",
        "hal tersebut memudahkan model dalam mempelajari dataset dan meminimalisir kesalahan dalam menjawab pertanyaan user. sehingga user mendapatkan jawaban yang memuaskan dan akurat."
      ]
    },
    {
      "cell_type": "code",
      "execution_count": null,
      "metadata": {
        "id": "8ERzMLKkdhpG"
      },
      "outputs": [],
      "source": [
        "#function for data preprocessing\n",
        "\n",
        "def text_proses(teks):\n",
        "  #change all teks to lowercase\n",
        "  teks = teks.lower()\n",
        "\n",
        "  #remove character/symbol is not required\n",
        "  teks = re.sub(\"[^A-Za-z\\s?!-,.()\\'\\\"\\0-9]\",\" \", teks) \n",
        "  \n",
        "  #make white space between teks and punctuation\n",
        "  teks = re.sub('([.,!?()\\'\\\"])', r' \\1 ', teks)\n",
        "  teks = re.sub('\\s{2,}', ' ', teks)\n",
        "  return teks"
      ]
    },
    {
      "cell_type": "markdown",
      "metadata": {
        "id": "GNywIAwr41_s"
      },
      "source": [
        "Berikut dataset setelah dilakukan data preprocessing:"
      ]
    },
    {
      "cell_type": "code",
      "execution_count": null,
      "metadata": {
        "colab": {
          "base_uri": "https://localhost:8080/",
          "height": 693
        },
        "id": "a06aDeOedhpG",
        "outputId": "80642f12-4a8c-4258-aab5-19f8891071fa"
      },
      "outputs": [
        {
          "data": {
            "text/html": [
              "\n",
              "  <div id=\"df-a4ee3118-0e11-4779-bf99-6a92305b0919\">\n",
              "    <div class=\"colab-df-container\">\n",
              "      <div>\n",
              "<style scoped>\n",
              "    .dataframe tbody tr th:only-of-type {\n",
              "        vertical-align: middle;\n",
              "    }\n",
              "\n",
              "    .dataframe tbody tr th {\n",
              "        vertical-align: top;\n",
              "    }\n",
              "\n",
              "    .dataframe thead th {\n",
              "        text-align: right;\n",
              "    }\n",
              "</style>\n",
              "<table border=\"1\" class=\"dataframe\">\n",
              "  <thead>\n",
              "    <tr style=\"text-align: right;\">\n",
              "      <th></th>\n",
              "      <th>Questions</th>\n",
              "      <th>Answers</th>\n",
              "      <th>Questions_process</th>\n",
              "      <th>Answers_process</th>\n",
              "    </tr>\n",
              "  </thead>\n",
              "  <tbody>\n",
              "    <tr>\n",
              "      <th>0</th>\n",
              "      <td>What does it mean to have a mental illness?</td>\n",
              "      <td>Mental illnesses are health conditions that di...</td>\n",
              "      <td>what does it mean to have a mental illness ?</td>\n",
              "      <td>mental illnesses are health conditions that di...</td>\n",
              "    </tr>\n",
              "    <tr>\n",
              "      <th>1</th>\n",
              "      <td>Who does mental illness affect?</td>\n",
              "      <td>Mental illness does can affect anyone, regardl...</td>\n",
              "      <td>who does mental illness affect ?</td>\n",
              "      <td>mental illness does can affect anyone , regard...</td>\n",
              "    </tr>\n",
              "    <tr>\n",
              "      <th>2</th>\n",
              "      <td>What are some of the warning signs of mental i...</td>\n",
              "      <td>Symptoms of mental health disorders vary depen...</td>\n",
              "      <td>what are some of the warning signs of mental i...</td>\n",
              "      <td>symptoms of mental health disorders vary depen...</td>\n",
              "    </tr>\n",
              "    <tr>\n",
              "      <th>3</th>\n",
              "      <td>Can people with mental illness recover?</td>\n",
              "      <td>When healing from mental illness, early identi...</td>\n",
              "      <td>can people with mental illness recover ?</td>\n",
              "      <td>when healing from mental illness , early ident...</td>\n",
              "    </tr>\n",
              "    <tr>\n",
              "      <th>4</th>\n",
              "      <td>What should I do if I know someone who appears...</td>\n",
              "      <td>We encourage those with symptoms to talk to th...</td>\n",
              "      <td>what should i do if i know someone who appears...</td>\n",
              "      <td>we encourage those with symptoms to talk to th...</td>\n",
              "    </tr>\n",
              "    <tr>\n",
              "      <th>...</th>\n",
              "      <td>...</td>\n",
              "      <td>...</td>\n",
              "      <td>...</td>\n",
              "      <td>...</td>\n",
              "    </tr>\n",
              "    <tr>\n",
              "      <th>177</th>\n",
              "      <td>Are smokers and tobacco users at higher risk o...</td>\n",
              "      <td>Smokers are likely to be more vulnerable to CO...</td>\n",
              "      <td>are smokers and tobacco users at higher risk o...</td>\n",
              "      <td>smokers are likely to be more vulnerable to co...</td>\n",
              "    </tr>\n",
              "    <tr>\n",
              "      <th>178</th>\n",
              "      <td>Are smokers and tobacco users at higher risk o...</td>\n",
              "      <td>Smoking products such as water pipes often inv...</td>\n",
              "      <td>are smokers and tobacco users at higher risk o...</td>\n",
              "      <td>smoking products such as water pipes often inv...</td>\n",
              "    </tr>\n",
              "    <tr>\n",
              "      <th>179</th>\n",
              "      <td>How large does a meeting or event need to be i...</td>\n",
              "      <td>High profile international sporting events suc...</td>\n",
              "      <td>how large does a meeting or event need to be i...</td>\n",
              "      <td>high profile international sporting events suc...</td>\n",
              "    </tr>\n",
              "    <tr>\n",
              "      <th>180</th>\n",
              "      <td>How large does a meeting or event need to be i...</td>\n",
              "      <td>An event counts as a mass gatherings if the ...</td>\n",
              "      <td>how large does a meeting or event need to be i...</td>\n",
              "      <td>an event counts as a mass gatherings if the nu...</td>\n",
              "    </tr>\n",
              "    <tr>\n",
              "      <th>181</th>\n",
              "      <td>Does WHO recommend that all international mass...</td>\n",
              "      <td>No. As each international mass gathering is di...</td>\n",
              "      <td>does who recommend that all international mass...</td>\n",
              "      <td>no . as each international mass gathering is d...</td>\n",
              "    </tr>\n",
              "  </tbody>\n",
              "</table>\n",
              "<p>182 rows × 4 columns</p>\n",
              "</div>\n",
              "      <button class=\"colab-df-convert\" onclick=\"convertToInteractive('df-a4ee3118-0e11-4779-bf99-6a92305b0919')\"\n",
              "              title=\"Convert this dataframe to an interactive table.\"\n",
              "              style=\"display:none;\">\n",
              "        \n",
              "  <svg xmlns=\"http://www.w3.org/2000/svg\" height=\"24px\"viewBox=\"0 0 24 24\"\n",
              "       width=\"24px\">\n",
              "    <path d=\"M0 0h24v24H0V0z\" fill=\"none\"/>\n",
              "    <path d=\"M18.56 5.44l.94 2.06.94-2.06 2.06-.94-2.06-.94-.94-2.06-.94 2.06-2.06.94zm-11 1L8.5 8.5l.94-2.06 2.06-.94-2.06-.94L8.5 2.5l-.94 2.06-2.06.94zm10 10l.94 2.06.94-2.06 2.06-.94-2.06-.94-.94-2.06-.94 2.06-2.06.94z\"/><path d=\"M17.41 7.96l-1.37-1.37c-.4-.4-.92-.59-1.43-.59-.52 0-1.04.2-1.43.59L10.3 9.45l-7.72 7.72c-.78.78-.78 2.05 0 2.83L4 21.41c.39.39.9.59 1.41.59.51 0 1.02-.2 1.41-.59l7.78-7.78 2.81-2.81c.8-.78.8-2.07 0-2.86zM5.41 20L4 18.59l7.72-7.72 1.47 1.35L5.41 20z\"/>\n",
              "  </svg>\n",
              "      </button>\n",
              "      \n",
              "  <style>\n",
              "    .colab-df-container {\n",
              "      display:flex;\n",
              "      flex-wrap:wrap;\n",
              "      gap: 12px;\n",
              "    }\n",
              "\n",
              "    .colab-df-convert {\n",
              "      background-color: #E8F0FE;\n",
              "      border: none;\n",
              "      border-radius: 50%;\n",
              "      cursor: pointer;\n",
              "      display: none;\n",
              "      fill: #1967D2;\n",
              "      height: 32px;\n",
              "      padding: 0 0 0 0;\n",
              "      width: 32px;\n",
              "    }\n",
              "\n",
              "    .colab-df-convert:hover {\n",
              "      background-color: #E2EBFA;\n",
              "      box-shadow: 0px 1px 2px rgba(60, 64, 67, 0.3), 0px 1px 3px 1px rgba(60, 64, 67, 0.15);\n",
              "      fill: #174EA6;\n",
              "    }\n",
              "\n",
              "    [theme=dark] .colab-df-convert {\n",
              "      background-color: #3B4455;\n",
              "      fill: #D2E3FC;\n",
              "    }\n",
              "\n",
              "    [theme=dark] .colab-df-convert:hover {\n",
              "      background-color: #434B5C;\n",
              "      box-shadow: 0px 1px 3px 1px rgba(0, 0, 0, 0.15);\n",
              "      filter: drop-shadow(0px 1px 2px rgba(0, 0, 0, 0.3));\n",
              "      fill: #FFFFFF;\n",
              "    }\n",
              "  </style>\n",
              "\n",
              "      <script>\n",
              "        const buttonEl =\n",
              "          document.querySelector('#df-a4ee3118-0e11-4779-bf99-6a92305b0919 button.colab-df-convert');\n",
              "        buttonEl.style.display =\n",
              "          google.colab.kernel.accessAllowed ? 'block' : 'none';\n",
              "\n",
              "        async function convertToInteractive(key) {\n",
              "          const element = document.querySelector('#df-a4ee3118-0e11-4779-bf99-6a92305b0919');\n",
              "          const dataTable =\n",
              "            await google.colab.kernel.invokeFunction('convertToInteractive',\n",
              "                                                     [key], {});\n",
              "          if (!dataTable) return;\n",
              "\n",
              "          const docLinkHtml = 'Like what you see? Visit the ' +\n",
              "            '<a target=\"_blank\" href=https://colab.research.google.com/notebooks/data_table.ipynb>data table notebook</a>'\n",
              "            + ' to learn more about interactive tables.';\n",
              "          element.innerHTML = '';\n",
              "          dataTable['output_type'] = 'display_data';\n",
              "          await google.colab.output.renderOutput(dataTable, element);\n",
              "          const docLink = document.createElement('div');\n",
              "          docLink.innerHTML = docLinkHtml;\n",
              "          element.appendChild(docLink);\n",
              "        }\n",
              "      </script>\n",
              "    </div>\n",
              "  </div>\n",
              "  "
            ],
            "text/plain": [
              "                                             Questions  \\\n",
              "0          What does it mean to have a mental illness?   \n",
              "1                      Who does mental illness affect?   \n",
              "2    What are some of the warning signs of mental i...   \n",
              "3              Can people with mental illness recover?   \n",
              "4    What should I do if I know someone who appears...   \n",
              "..                                                 ...   \n",
              "177  Are smokers and tobacco users at higher risk o...   \n",
              "178  Are smokers and tobacco users at higher risk o...   \n",
              "179  How large does a meeting or event need to be i...   \n",
              "180  How large does a meeting or event need to be i...   \n",
              "181  Does WHO recommend that all international mass...   \n",
              "\n",
              "                                               Answers  \\\n",
              "0    Mental illnesses are health conditions that di...   \n",
              "1    Mental illness does can affect anyone, regardl...   \n",
              "2    Symptoms of mental health disorders vary depen...   \n",
              "3    When healing from mental illness, early identi...   \n",
              "4    We encourage those with symptoms to talk to th...   \n",
              "..                                                 ...   \n",
              "177  Smokers are likely to be more vulnerable to CO...   \n",
              "178  Smoking products such as water pipes often inv...   \n",
              "179  High profile international sporting events suc...   \n",
              "180  An event counts as a mass gatherings if the ...   \n",
              "181  No. As each international mass gathering is di...   \n",
              "\n",
              "                                     Questions_process  \\\n",
              "0        what does it mean to have a mental illness ?    \n",
              "1                    who does mental illness affect ?    \n",
              "2    what are some of the warning signs of mental i...   \n",
              "3            can people with mental illness recover ?    \n",
              "4    what should i do if i know someone who appears...   \n",
              "..                                                 ...   \n",
              "177  are smokers and tobacco users at higher risk o...   \n",
              "178  are smokers and tobacco users at higher risk o...   \n",
              "179  how large does a meeting or event need to be i...   \n",
              "180  how large does a meeting or event need to be i...   \n",
              "181  does who recommend that all international mass...   \n",
              "\n",
              "                                       Answers_process  \n",
              "0    mental illnesses are health conditions that di...  \n",
              "1    mental illness does can affect anyone , regard...  \n",
              "2    symptoms of mental health disorders vary depen...  \n",
              "3    when healing from mental illness , early ident...  \n",
              "4    we encourage those with symptoms to talk to th...  \n",
              "..                                                 ...  \n",
              "177  smokers are likely to be more vulnerable to co...  \n",
              "178  smoking products such as water pipes often inv...  \n",
              "179  high profile international sporting events suc...  \n",
              "180  an event counts as a mass gatherings if the nu...  \n",
              "181  no . as each international mass gathering is d...  \n",
              "\n",
              "[182 rows x 4 columns]"
            ]
          },
          "execution_count": 6,
          "metadata": {},
          "output_type": "execute_result"
        }
      ],
      "source": [
        "data['Questions_process'] = data['Questions'].apply(lambda x: text_proses(x))\n",
        "data['Answers_process'] = data['Answers'].apply(lambda x: text_proses(x))\n",
        "data"
      ]
    },
    {
      "cell_type": "markdown",
      "metadata": {
        "id": "zcDLHPAGzbKz"
      },
      "source": [
        "konsep model sequence to sequence. sequence to sequence model merupakan salah satu arsiktektur Recurrent Neural Network architecture (RNN) yang digunakan untuk menyelesaikan masalah bahasa yang kompleks seperti machine translation, question and answering, creating chatbot, dll.  dalam pembuatan model sequence to sequence diperlukan arsiktektur encoder - decoder. berikut cara kerja sederhana dari model sequence to sequence: model encoder membaca input sequence yang akan dimasukkan kedalam model dan hasil dari encoder digunakan model decoder sebagai inputan untuk membantu model decoder untuk menghasilkan nilai akurasi yang tinggi pada hasil prediksi.\n",
        "\n",
        "pada kasus ini dilakukan pembuatan chatbot untuk menjawab pertanyaan masyarakat tentang mental health dan covid-19. oleh sebab itu, pada kasus ini digunakan konsep model sequence to sequence dan dibuat encoder dan decoder untuk kasus ini. encoder pada kasus ini adalah kolom pertanyaan dan decoder pada kasus ini adalah kolom jawaban\n",
        "\n",
        "setelah itu, sequence encoder dan decoder dilakukan tokenizer. tokenizer bertujuan untuk meng-converting setiap karakter atau token pada sequence encoder dan decoder supaya dapat dipelajari oleh  model tersebut dalam pembuatan model chatbot.\n",
        "\n",
        "setelah dilakukan tokenizer, sequence encoder dan decoder pun dilakukan pad sequence. padding sequence bertujuan untuk menyamakan jumlah kata pada kolom pertanyaan dan jawaban dengan jumlah maksimal kata pada kolom pertanyaan dan jawaban sehingga memudahkan model dalam memprediksi jawaban pertanyaan yang akan dimasukkan oleh user."
      ]
    },
    {
      "cell_type": "markdown",
      "metadata": {
        "id": "ozOdqbZIyrJF"
      },
      "source": [
        "Berikut Proses Tokenizer dari sequence encoder:"
      ]
    },
    {
      "cell_type": "code",
      "execution_count": null,
      "metadata": {
        "id": "o_WJUqGedhpH"
      },
      "outputs": [],
      "source": [
        "Encoder_token = Tokenizer()\n",
        "Encoder_token.fit_on_texts(data['Questions_process'])\n",
        "input_encoder = Encoder_token.texts_to_sequences(data['Questions_process'])\n"
      ]
    },
    {
      "cell_type": "markdown",
      "metadata": {
        "id": "RsmTC0V9y0Cj"
      },
      "source": [
        "Berikut Proses Tokenizer dari sequence decoder:"
      ]
    },
    {
      "cell_type": "code",
      "execution_count": null,
      "metadata": {
        "id": "zPIY4ELLdhpI"
      },
      "outputs": [],
      "source": [
        "decoder_token = Tokenizer()\n",
        "decoder_token.fit_on_texts(data['Answers_process'].apply(lambda x: f'<START> {x} <END>'))\n",
        "Input_decoder = decoder_token.texts_to_sequences(data['Answers_process'].apply(lambda x: f'<START> {x} <END>'))\n",
        "\n",
        "Output_decoder = decoder_token.texts_to_sequences(data['Answers_process'].apply(lambda x: f'{x} <END>'))"
      ]
    },
    {
      "cell_type": "code",
      "execution_count": null,
      "metadata": {
        "id": "o32GfJgBdhpJ"
      },
      "outputs": [],
      "source": [
        "#maximun length of words in encoder dan decoder\n",
        "max_sen_encoder = max([len(i) for i in input_encoder])          \n",
        "max_sen_decoder = max([len(i) for i in Input_decoder])    "
      ]
    },
    {
      "cell_type": "code",
      "execution_count": null,
      "metadata": {
        "id": "tXlK51CTdhpJ"
      },
      "outputs": [],
      "source": [
        "jumlah_kataQ = len(Encoder_token.word_index)+1\n",
        "jumlah_kataA = len(decoder_token.word_index)+1\n",
        "\n",
        "#pad sequence for input encoder\n",
        "Input_encoder_pad = pad_sequences(input_encoder, maxlen=max_sen_encoder, padding='post')\n",
        "\n",
        "#pad sequence for input decoder\n",
        "Input_decoder_pad = pad_sequences(Input_decoder, maxlen=max_sen_decoder, padding='post')\n",
        "\n",
        "#pad sequence for output decoder\n",
        "Ouput_decoder_pad = pad_sequences(Output_decoder, maxlen=max_sen_decoder, padding='post')\n",
        "\n",
        "#Onehotenconder for target\n",
        "target = tf.keras.utils.to_categorical(Ouput_decoder_pad, jumlah_kataA)"
      ]
    },
    {
      "cell_type": "markdown",
      "metadata": {
        "id": "TPWKi-gcypa7"
      },
      "source": [
        "# **5 - Model**"
      ]
    },
    {
      "cell_type": "markdown",
      "metadata": {
        "id": "Upy79819y-XX"
      },
      "source": [
        "#  - Base Model"
      ]
    },
    {
      "cell_type": "markdown",
      "metadata": {
        "id": "qJGsDKGhzGe-"
      },
      "source": [
        "pada base model ini digunakan architecture model dari referensi (sumber: https://github.com/pandeyanuradha/Chatbot-for-mental-health) dengan input layer, satu layer embedding, satu hidden layer dengan jumlah neuron sebanyak 256, dan layer output untuk architecture model encoder. architecture yang sama juga digunakan juga pada model decoder ."
      ]
    },
    {
      "cell_type": "markdown",
      "metadata": {
        "id": "x4xzr0S1z93X"
      },
      "source": [
        "## Model Definition"
      ]
    },
    {
      "cell_type": "code",
      "execution_count": null,
      "metadata": {
        "id": "HeGioG_adhpM"
      },
      "outputs": [],
      "source": [
        "dimensionality = 256 # Dimensionality \n",
        "batch_size = 4  # The batch size and number of epochs\n",
        "epochs = 50\n",
        "\n",
        "#Encoder\n",
        "encoder_inputs = Input(shape=(None,))\n",
        "encoder_embedding = Embedding(input_dim=jumlah_kataQ, output_dim=128, embeddings_initializer=\"uniform\", input_length=max_sen_encoder)(encoder_inputs)\n",
        "encoder_lstm = LSTM(dimensionality, return_state=True)\n",
        "encoder_outputs, state_hidden, state_cell = encoder_lstm(encoder_embedding)\n",
        "encoder_states = [state_hidden, state_cell]\n",
        "\n",
        "#Decoder\n",
        "decoder_inputs = Input(shape=(None, ))\n",
        "decoder_embedding = Embedding(input_dim=jumlah_kataA, output_dim=128, embeddings_initializer=\"uniform\", input_length=max_sen_decoder)(decoder_inputs)\n",
        "decoder_lstm = LSTM(dimensionality, return_sequences=True, return_state=True)\n",
        "decoder_outputs, decoder_state_hidden, decoder_state_cell = decoder_lstm(decoder_embedding , initial_state=encoder_states)\n",
        "decoder_dense = Dense(jumlah_kataA, activation='softmax')\n",
        "decoder_outputs = decoder_dense(decoder_outputs)"
      ]
    },
    {
      "cell_type": "markdown",
      "metadata": {
        "id": "aF_BMMci0Dzx"
      },
      "source": [
        "## Training Model"
      ]
    },
    {
      "cell_type": "code",
      "execution_count": null,
      "metadata": {
        "id": "FIPSiBIUdhpN"
      },
      "outputs": [],
      "source": [
        "training_model = Model([encoder_inputs, decoder_inputs], decoder_outputs)"
      ]
    },
    {
      "cell_type": "code",
      "execution_count": null,
      "metadata": {
        "colab": {
          "base_uri": "https://localhost:8080/"
        },
        "id": "UriPQXdbdhpN",
        "outputId": "cfd74d50-0981-4c64-c6f9-65a5e3e11679"
      },
      "outputs": [
        {
          "name": "stdout",
          "output_type": "stream",
          "text": [
            "Model: \"model\"\n",
            "__________________________________________________________________________________________________\n",
            " Layer (type)                   Output Shape         Param #     Connected to                     \n",
            "==================================================================================================\n",
            " input_1 (InputLayer)           [(None, None)]       0           []                               \n",
            "                                                                                                  \n",
            " input_2 (InputLayer)           [(None, None)]       0           []                               \n",
            "                                                                                                  \n",
            " embedding (Embedding)          (None, None, 128)    49024       ['input_1[0][0]']                \n",
            "                                                                                                  \n",
            " embedding_1 (Embedding)        (None, None, 128)    366976      ['input_2[0][0]']                \n",
            "                                                                                                  \n",
            " lstm (LSTM)                    [(None, 256),        394240      ['embedding[0][0]']              \n",
            "                                 (None, 256),                                                     \n",
            "                                 (None, 256)]                                                     \n",
            "                                                                                                  \n",
            " lstm_1 (LSTM)                  [(None, None, 256),  394240      ['embedding_1[0][0]',            \n",
            "                                 (None, 256),                     'lstm[0][1]',                   \n",
            "                                 (None, 256)]                     'lstm[0][2]']                   \n",
            "                                                                                                  \n",
            " dense (Dense)                  (None, None, 2867)   736819      ['lstm_1[0][0]']                 \n",
            "                                                                                                  \n",
            "==================================================================================================\n",
            "Total params: 1,941,299\n",
            "Trainable params: 1,941,299\n",
            "Non-trainable params: 0\n",
            "__________________________________________________________________________________________________\n"
          ]
        }
      ],
      "source": [
        "training_model.summary()"
      ]
    },
    {
      "cell_type": "code",
      "execution_count": null,
      "metadata": {
        "colab": {
          "base_uri": "https://localhost:8080/",
          "height": 488
        },
        "id": "8AbqzG1EdhpO",
        "outputId": "4d68068a-58a8-406b-e74f-5da2b0a1b55b"
      },
      "outputs": [
        {
          "data": {
            "image/png": "[encoded data removed]",
            "text/plain": [
              "<IPython.core.display.Image object>"
            ]
          },
          "execution_count": 14,
          "metadata": {},
          "output_type": "execute_result"
        }
      ],
      "source": [
        "#schema base model\n",
        "plot_model(training_model, to_file='model_plot.png', show_shapes=True, show_layer_names=True)   # plot model"
      ]
    },
    {
      "cell_type": "markdown",
      "metadata": {
        "id": "zWz0Np4u0PZr"
      },
      "source": [
        "## Model Evaluation"
      ]
    },
    {
      "cell_type": "code",
      "execution_count": null,
      "metadata": {
        "colab": {
          "base_uri": "https://localhost:8080/"
        },
        "id": "bZP1OleYdhpO",
        "outputId": "4fce9e10-f133-4c9e-d344-417191cd9e69"
      },
      "outputs": [
        {
          "name": "stdout",
          "output_type": "stream",
          "text": [
            "Epoch 1/50\n",
            "37/37 [==============================] - 11s 164ms/step - loss: 1.7063 - accuracy: 0.8598 - val_loss: 0.1941 - val_accuracy: 0.9835\n",
            "Epoch 2/50\n",
            "37/37 [==============================] - 4s 114ms/step - loss: 0.8810 - accuracy: 0.8830 - val_loss: 0.1272 - val_accuracy: 0.9835\n",
            "Epoch 3/50\n",
            "37/37 [==============================] - 4s 114ms/step - loss: 0.7505 - accuracy: 0.8852 - val_loss: 0.1231 - val_accuracy: 0.9835\n",
            "Epoch 4/50\n",
            "37/37 [==============================] - 4s 114ms/step - loss: 0.7358 - accuracy: 0.8867 - val_loss: 0.1186 - val_accuracy: 0.9839\n",
            "Epoch 5/50\n",
            "37/37 [==============================] - 4s 113ms/step - loss: 0.7248 - accuracy: 0.8871 - val_loss: 0.1174 - val_accuracy: 0.9844\n",
            "Epoch 6/50\n",
            "37/37 [==============================] - 4s 114ms/step - loss: 0.7140 - accuracy: 0.8881 - val_loss: 0.1168 - val_accuracy: 0.9842\n",
            "Epoch 7/50\n",
            "37/37 [==============================] - 4s 113ms/step - loss: 0.7009 - accuracy: 0.8887 - val_loss: 0.1177 - val_accuracy: 0.9842\n",
            "Epoch 8/50\n",
            "37/37 [==============================] - 4s 114ms/step - loss: 0.6900 - accuracy: 0.8893 - val_loss: 0.1159 - val_accuracy: 0.9843\n",
            "Epoch 9/50\n",
            "37/37 [==============================] - 4s 115ms/step - loss: 0.6815 - accuracy: 0.8897 - val_loss: 0.1159 - val_accuracy: 0.9843\n",
            "Epoch 10/50\n",
            "37/37 [==============================] - 4s 115ms/step - loss: 0.6711 - accuracy: 0.8902 - val_loss: 0.1141 - val_accuracy: 0.9845\n",
            "Epoch 11/50\n",
            "37/37 [==============================] - 4s 115ms/step - loss: 0.6623 - accuracy: 0.8907 - val_loss: 0.1156 - val_accuracy: 0.9844\n",
            "Epoch 12/50\n",
            "37/37 [==============================] - 4s 115ms/step - loss: 0.6541 - accuracy: 0.8915 - val_loss: 0.1155 - val_accuracy: 0.9846\n",
            "Epoch 13/50\n",
            "37/37 [==============================] - 4s 116ms/step - loss: 0.6452 - accuracy: 0.8924 - val_loss: 0.1144 - val_accuracy: 0.9848\n",
            "Epoch 14/50\n",
            "37/37 [==============================] - 4s 114ms/step - loss: 0.6379 - accuracy: 0.8928 - val_loss: 0.1154 - val_accuracy: 0.9846\n",
            "Epoch 15/50\n",
            "37/37 [==============================] - 4s 116ms/step - loss: 0.6299 - accuracy: 0.8935 - val_loss: 0.1161 - val_accuracy: 0.9847\n",
            "Epoch 16/50\n",
            "37/37 [==============================] - 4s 115ms/step - loss: 0.6205 - accuracy: 0.8941 - val_loss: 0.1155 - val_accuracy: 0.9848\n",
            "Epoch 17/50\n",
            "37/37 [==============================] - 4s 115ms/step - loss: 0.6133 - accuracy: 0.8947 - val_loss: 0.1152 - val_accuracy: 0.9848\n",
            "Epoch 18/50\n",
            "37/37 [==============================] - 4s 113ms/step - loss: 0.6051 - accuracy: 0.8952 - val_loss: 0.1157 - val_accuracy: 0.9848\n",
            "Epoch 19/50\n",
            "37/37 [==============================] - 4s 114ms/step - loss: 0.5974 - accuracy: 0.8959 - val_loss: 0.1142 - val_accuracy: 0.9850\n",
            "Epoch 20/50\n",
            "37/37 [==============================] - 4s 115ms/step - loss: 0.5897 - accuracy: 0.8963 - val_loss: 0.1144 - val_accuracy: 0.9849\n",
            "Epoch 21/50\n",
            "37/37 [==============================] - 4s 114ms/step - loss: 0.5808 - accuracy: 0.8969 - val_loss: 0.1146 - val_accuracy: 0.9849\n",
            "Epoch 22/50\n",
            "37/37 [==============================] - 4s 113ms/step - loss: 0.5735 - accuracy: 0.8973 - val_loss: 0.1140 - val_accuracy: 0.9851\n",
            "Epoch 23/50\n",
            "37/37 [==============================] - 4s 114ms/step - loss: 0.6690 - accuracy: 0.8916 - val_loss: 0.1144 - val_accuracy: 0.9851\n",
            "Epoch 24/50\n",
            "37/37 [==============================] - 4s 115ms/step - loss: 0.5574 - accuracy: 0.8984 - val_loss: 0.1147 - val_accuracy: 0.9851\n",
            "Epoch 25/50\n",
            "37/37 [==============================] - 4s 115ms/step - loss: 0.5493 - accuracy: 0.8990 - val_loss: 0.1149 - val_accuracy: 0.9850\n",
            "Epoch 26/50\n",
            "37/37 [==============================] - 4s 116ms/step - loss: 0.5403 - accuracy: 0.8998 - val_loss: 0.1130 - val_accuracy: 0.9851\n",
            "Epoch 27/50\n",
            "37/37 [==============================] - 4s 115ms/step - loss: 0.5325 - accuracy: 0.9004 - val_loss: 0.1156 - val_accuracy: 0.9851\n",
            "Epoch 28/50\n",
            "37/37 [==============================] - 4s 116ms/step - loss: 0.5229 - accuracy: 0.9012 - val_loss: 0.1133 - val_accuracy: 0.9854\n",
            "Epoch 29/50\n",
            "37/37 [==============================] - 4s 116ms/step - loss: 0.5158 - accuracy: 0.9018 - val_loss: 0.1145 - val_accuracy: 0.9853\n",
            "Epoch 30/50\n",
            "37/37 [==============================] - 4s 116ms/step - loss: 0.5093 - accuracy: 0.9026 - val_loss: 0.1148 - val_accuracy: 0.9851\n",
            "Epoch 31/50\n",
            "37/37 [==============================] - 4s 115ms/step - loss: 0.4994 - accuracy: 0.9036 - val_loss: 0.1160 - val_accuracy: 0.9853\n",
            "Epoch 32/50\n",
            "37/37 [==============================] - 4s 117ms/step - loss: 0.4916 - accuracy: 0.9043 - val_loss: 0.1151 - val_accuracy: 0.9853\n",
            "Epoch 33/50\n",
            "37/37 [==============================] - 5s 126ms/step - loss: 0.4834 - accuracy: 0.9052 - val_loss: 0.1152 - val_accuracy: 0.9852\n",
            "Epoch 34/50\n",
            "37/37 [==============================] - 4s 116ms/step - loss: 0.4757 - accuracy: 0.9062 - val_loss: 0.1156 - val_accuracy: 0.9851\n",
            "Epoch 35/50\n",
            "37/37 [==============================] - 4s 116ms/step - loss: 0.4681 - accuracy: 0.9071 - val_loss: 0.1151 - val_accuracy: 0.9852\n",
            "Epoch 36/50\n",
            "37/37 [==============================] - 4s 116ms/step - loss: 0.4597 - accuracy: 0.9078 - val_loss: 0.1156 - val_accuracy: 0.9853\n",
            "Epoch 37/50\n",
            "37/37 [==============================] - 4s 115ms/step - loss: 0.4508 - accuracy: 0.9092 - val_loss: 0.1169 - val_accuracy: 0.9853\n",
            "Epoch 38/50\n",
            "37/37 [==============================] - 4s 114ms/step - loss: 0.4444 - accuracy: 0.9101 - val_loss: 0.1165 - val_accuracy: 0.9852\n",
            "Epoch 39/50\n",
            "37/37 [==============================] - 4s 115ms/step - loss: 0.4351 - accuracy: 0.9116 - val_loss: 0.1170 - val_accuracy: 0.9852\n",
            "Epoch 40/50\n",
            "37/37 [==============================] - 4s 115ms/step - loss: 0.4275 - accuracy: 0.9127 - val_loss: 0.1186 - val_accuracy: 0.9852\n",
            "Epoch 41/50\n",
            "37/37 [==============================] - 4s 116ms/step - loss: 0.4208 - accuracy: 0.9138 - val_loss: 0.1167 - val_accuracy: 0.9853\n",
            "Epoch 42/50\n",
            "37/37 [==============================] - 4s 116ms/step - loss: 0.4123 - accuracy: 0.9153 - val_loss: 0.1200 - val_accuracy: 0.9852\n",
            "Epoch 43/50\n",
            "37/37 [==============================] - 4s 115ms/step - loss: 0.4052 - accuracy: 0.9161 - val_loss: 0.1185 - val_accuracy: 0.9852\n",
            "Epoch 44/50\n",
            "37/37 [==============================] - 4s 117ms/step - loss: 0.3967 - accuracy: 0.9178 - val_loss: 0.1192 - val_accuracy: 0.9853\n",
            "Epoch 45/50\n",
            "37/37 [==============================] - 4s 116ms/step - loss: 0.3896 - accuracy: 0.9192 - val_loss: 0.1176 - val_accuracy: 0.9852\n",
            "Epoch 46/50\n",
            "37/37 [==============================] - 4s 116ms/step - loss: 0.3832 - accuracy: 0.9202 - val_loss: 0.1192 - val_accuracy: 0.9853\n",
            "Epoch 47/50\n",
            "37/37 [==============================] - 4s 117ms/step - loss: 0.3753 - accuracy: 0.9219 - val_loss: 0.1198 - val_accuracy: 0.9852\n",
            "Epoch 48/50\n",
            "37/37 [==============================] - 4s 116ms/step - loss: 0.3655 - accuracy: 0.9234 - val_loss: 0.1199 - val_accuracy: 0.9853\n",
            "Epoch 49/50\n",
            "37/37 [==============================] - 4s 115ms/step - loss: 0.3593 - accuracy: 0.9248 - val_loss: 0.1211 - val_accuracy: 0.9853\n",
            "Epoch 50/50\n",
            "37/37 [==============================] - 4s 115ms/step - loss: 0.3518 - accuracy: 0.9259 - val_loss: 0.1205 - val_accuracy: 0.9852\n"
          ]
        }
      ],
      "source": [
        "training_model.compile(optimizer='rmsprop', loss='categorical_crossentropy', metrics=['accuracy'], sample_weight_mode='temporal' )#Training\n",
        "history1=training_model.fit([Input_encoder_pad, Input_decoder_pad], target, batch_size = batch_size, epochs = epochs, validation_split = 0.2)"
      ]
    },
    {
      "cell_type": "code",
      "execution_count": null,
      "metadata": {
        "colab": {
          "base_uri": "https://localhost:8080/",
          "height": 277
        },
        "id": "61AOr6_nk8v7",
        "outputId": "51013e9b-89c6-4f63-bcc0-d8cac6e7acd4"
      },
      "outputs": [
        {
          "data": {
            "image/png": "[encoded data removed]",
            "text/plain": [
              "<Figure size 1080x288 with 2 Axes>"
            ]
          },
          "metadata": {
            "needs_background": "light"
          },
          "output_type": "display_data"
        }
      ],
      "source": [
        "epochs = 50\n",
        "\n",
        "fig, ax = plt.subplots(ncols=2, figsize=(15,4))\n",
        "ax[0].plot(range(1,epochs+1), history1.history['loss'],label='loss')\n",
        "ax[0].plot(range(1,epochs+1), history1.history['val_loss'],label='val_loss')\n",
        "ax[0].set_title('loss')\n",
        "ax[0].legend()\n",
        "ax[0].set_xlabel('epoch')\n",
        "\n",
        "ax[1].plot(range(1,epochs+1), history1.history['accuracy'],label='accuracy')\n",
        "ax[1].plot(range(1,epochs+1), history1.history['val_accuracy'],label='val_accuracy')\n",
        "ax[1].set_title('Accuracy')\n",
        "ax[1].legend()\n",
        "ax[1].set_xlabel('Epoch')\n",
        "plt.show()"
      ]
    },
    {
      "cell_type": "markdown",
      "metadata": {
        "id": "-rcG_YT51rTG"
      },
      "source": [
        "berdasarkan grafik tersebut, architecture base model menghasilkan nilai accuracy yang cukup konsisten pada data validasi dengan akurasi 98.52% dan loss 0.1205. selain itu, model tersebut menghasilkan nilai akurasi yang cendrung naik pada data training dengan puncak akurasi di 92.59% (93%) dan loss 0.3518. nilai loss yang kecil mengindikasi bahwa model tersebut cukup baik dan akurat dalam menjawab pertanyaan yang akan di ajukkan oleh user. hal tersebut mengartikan bahwa model dengan architecture seperti itu dapat digunakan dalam pembuatan chatbot. akan tetapi, nilai loss pada model tersebut dapat dikurangi lagi dan nilai akurasi nya dapat ditingkatkan. selain itu, nilai akurasi yang cukup tinggi pada epoch awal perlu dicurigai. nilai akurasi yang cukup tinggi pada epoch awal dapat mengindikasi dua hal, yaitu model tidak dapat mempelajari data dengan sangat baik atau model tersebut konsisten menghasilkan nilai akurasi tersebut. untuk menghindari model tidak dapat mempelajari data yang akan mengakibatkan model tidak dapat menjawab pertanyaan user dengan benar, perlu dilakukan model improvement untuk menghasilkan nilai akurasi yang tinggi dan cendrung naik pada data validasi. sehingga kemungkinan model untuk salah dalam menjawab pertanyaan user sangat kecil dan user bisa mendapatkan jawaban yang memuaskan dari chatbot tersebut.\n"
      ]
    },
    {
      "cell_type": "markdown",
      "metadata": {
        "id": "wm6K-YBb6TIk"
      },
      "source": [
        "# - Model Improvement"
      ]
    },
    {
      "cell_type": "markdown",
      "metadata": {
        "id": "cKX9yaRiWD-B"
      },
      "source": [
        "menurut sumber https://towardsdatascience.com/the-vanishing-gradient-problem-69bf08b15484, untuk mengatasi hal tersebut diperlukan penambahan activation function seperti 'relu' dan layer batch normalization. oleh karena itu pada model improvement ini dilakukan penambahan layer dense dengan activation function 'relu' dengan jumlah neuron 200 dan layer batch normalization pada architecture model encoder. selain itu, model decoder juga dilakukan penambahan layer dense dengan activation 'relu' dengan jumlah neuron 32  dan layer batch normalization. penambahan layer dense dengan activation function 'relu' dan batch normalization pada encoder dan decoder diharapkan model dapat menghasilkan nilai akurasi yang lebih baik dan beragam dan cendrung naik untuk meminimalisir error atau kesalahan model dalam menjawab pertanyaan user.\n",
        "\n",
        "penambahan satu layer dense dengan activation function dan satu layer batch normalization dikarenakan jumlah data pada dataset yang digunakan pada kasus ini sangat sedikit sehingga menambahan layer dense dan batch normalization yang lebih dari satu bisa mengakibatkan model tersebut mengalami overfiting, bias, kesulitan dalam mempelajari dataset tersebut, dan exploding gradient. exploding gradient merupakan keadaan dimana nilai akurasi pada model mengalami penurunan dan kenaikkan secara signifikan dalam waktu tertentu. oleh karena itu, pada kasus ini hanya dilakukan satu penambahan layer dense dengan activation 'relu' dan satu layer batch normalization."
      ]
    },
    {
      "cell_type": "markdown",
      "metadata": {
        "id": "eiM9MeNoZKNQ"
      },
      "source": [
        "## Model Definition"
      ]
    },
    {
      "cell_type": "code",
      "execution_count": null,
      "metadata": {
        "id": "Gs7XKoq-gqvd"
      },
      "outputs": [],
      "source": [
        "#Encoder\n",
        "encoder_inputs1 = Input(shape=(None,))\n",
        "encoder_embedding1 = Embedding(input_dim=jumlah_kataQ, output_dim=128, embeddings_initializer=\"uniform\", embeddings_regularizer='l2', input_length=max_sen_encoder)(encoder_inputs1)\n",
        "encoder_layer = LSTM(256,return_sequences=True)(encoder_embedding1)\n",
        "encoder_layer = Dense(200,activation='relu')(encoder_layer)\n",
        "encoder_layer = tf.keras.layers.BatchNormalization()(encoder_layer)\n",
        "encoder_layer = tf.keras.layers.Dropout(0.1)(encoder_layer)\n",
        "encoder_lstm1 = LSTM(128, return_state=True)\n",
        "encoder_layer = tf.keras.layers.BatchNormalization()(encoder_layer)\n",
        "encoder_layer = tf.keras.layers.Dropout(0.1)(encoder_layer)\n",
        "encoder_outputs1, state_hidden, state_cell = encoder_lstm1(encoder_layer)\n",
        "encoder_states1 = [state_hidden, state_cell]\n",
        "\n",
        "#Decoder\n",
        "decoder_inputs1 = Input(shape=(None, ))\n",
        "decoder_embedding1 = Embedding(input_dim=jumlah_kataA, output_dim=128, embeddings_initializer=\"uniform\", embeddings_regularizer='l2', input_length=max_sen_decoder)(decoder_inputs1)\n",
        "decoder_lstm1 = LSTM(128, return_sequences=True, return_state=True)\n",
        "decoder_outputs1, decoder_state_hidden, decoder_state_cell = decoder_lstm1(decoder_embedding1 , initial_state=encoder_states1)\n",
        "decoder_BN = tf.keras.layers.BatchNormalization()\n",
        "decoder_layer = decoder_BN(decoder_outputs1)\n",
        "decoder_Dense1 = Dense(32, activation='relu')\n",
        "decoder_layer = decoder_Dense1(decoder_layer)\n",
        "decoder_Dense2 = Dense(jumlah_kataA, activation='softmax')\n",
        "decoder_outputs1 = decoder_Dense2(decoder_layer)"
      ]
    },
    {
      "cell_type": "markdown",
      "metadata": {
        "id": "RBQEUf-ZZOM7"
      },
      "source": [
        "## Model Training"
      ]
    },
    {
      "cell_type": "code",
      "execution_count": null,
      "metadata": {
        "id": "GdDzGnLdl2JQ"
      },
      "outputs": [],
      "source": [
        "training_model1 = Model([encoder_inputs1, decoder_inputs1], decoder_outputs1) # Compiling"
      ]
    },
    {
      "cell_type": "code",
      "execution_count": null,
      "metadata": {
        "colab": {
          "base_uri": "https://localhost:8080/"
        },
        "id": "U1Pvk-iamLfc",
        "outputId": "6b419415-38a5-43c0-f2f4-dc39d8b34eab"
      },
      "outputs": [
        {
          "name": "stdout",
          "output_type": "stream",
          "text": [
            "Model: \"model_1\"\n",
            "__________________________________________________________________________________________________\n",
            " Layer (type)                   Output Shape         Param #     Connected to                     \n",
            "==================================================================================================\n",
            " input_3 (InputLayer)           [(None, None)]       0           []                               \n",
            "                                                                                                  \n",
            " embedding_2 (Embedding)        (None, None, 128)    49024       ['input_3[0][0]']                \n",
            "                                                                                                  \n",
            " lstm_2 (LSTM)                  (None, None, 256)    394240      ['embedding_2[0][0]']            \n",
            "                                                                                                  \n",
            " dense_1 (Dense)                (None, None, 200)    51400       ['lstm_2[0][0]']                 \n",
            "                                                                                                  \n",
            " batch_normalization (BatchNorm  (None, None, 200)   800         ['dense_1[0][0]']                \n",
            " alization)                                                                                       \n",
            "                                                                                                  \n",
            " dropout (Dropout)              (None, None, 200)    0           ['batch_normalization[0][0]']    \n",
            "                                                                                                  \n",
            " batch_normalization_1 (BatchNo  (None, None, 200)   800         ['dropout[0][0]']                \n",
            " rmalization)                                                                                     \n",
            "                                                                                                  \n",
            " input_4 (InputLayer)           [(None, None)]       0           []                               \n",
            "                                                                                                  \n",
            " dropout_1 (Dropout)            (None, None, 200)    0           ['batch_normalization_1[0][0]']  \n",
            "                                                                                                  \n",
            " embedding_3 (Embedding)        (None, None, 128)    366976      ['input_4[0][0]']                \n",
            "                                                                                                  \n",
            " lstm_3 (LSTM)                  [(None, 128),        168448      ['dropout_1[0][0]']              \n",
            "                                 (None, 128),                                                     \n",
            "                                 (None, 128)]                                                     \n",
            "                                                                                                  \n",
            " lstm_4 (LSTM)                  [(None, None, 128),  131584      ['embedding_3[0][0]',            \n",
            "                                 (None, 128),                     'lstm_3[0][1]',                 \n",
            "                                 (None, 128)]                     'lstm_3[0][2]']                 \n",
            "                                                                                                  \n",
            " batch_normalization_2 (BatchNo  (None, None, 128)   512         ['lstm_4[0][0]']                 \n",
            " rmalization)                                                                                     \n",
            "                                                                                                  \n",
            " dense_2 (Dense)                (None, None, 32)     4128        ['batch_normalization_2[0][0]']  \n",
            "                                                                                                  \n",
            " dense_3 (Dense)                (None, None, 2867)   94611       ['dense_2[0][0]']                \n",
            "                                                                                                  \n",
            "==================================================================================================\n",
            "Total params: 1,262,523\n",
            "Trainable params: 1,261,467\n",
            "Non-trainable params: 1,056\n",
            "__________________________________________________________________________________________________\n"
          ]
        }
      ],
      "source": [
        "training_model1.summary()"
      ]
    },
    {
      "cell_type": "code",
      "execution_count": null,
      "metadata": {
        "colab": {
          "base_uri": "https://localhost:8080/",
          "height": 1000
        },
        "id": "Cf1-4XIOmSwM",
        "outputId": "6b3add83-caed-4f80-c027-23e047e0b8a7"
      },
      "outputs": [
        {
          "data": {
            "image/png": "[encoded data removed]",
            "text/plain": [
              "<IPython.core.display.Image object>"
            ]
          },
          "execution_count": 20,
          "metadata": {},
          "output_type": "execute_result"
        }
      ],
      "source": [
        "#Schema architecture model improvement\n",
        "plot_model(training_model1, to_file='model_plot.png', show_shapes=True, show_layer_names=True)   # plot model"
      ]
    },
    {
      "cell_type": "markdown",
      "metadata": {
        "id": "8p-uUuV0Zali"
      },
      "source": [
        "## Model Evaluation"
      ]
    },
    {
      "cell_type": "code",
      "execution_count": null,
      "metadata": {
        "colab": {
          "base_uri": "https://localhost:8080/"
        },
        "id": "cHCT_-_0mXI-",
        "outputId": "3baff3e3-c946-47d9-b014-197d6830eea8"
      },
      "outputs": [
        {
          "name": "stdout",
          "output_type": "stream",
          "text": [
            "Epoch 1/50\n",
            "37/37 [==============================] - 12s 173ms/step - loss: 7.9106 - accuracy: 0.8105 - val_loss: 7.5625 - val_accuracy: 4.6352e-04\n",
            "Epoch 2/50\n",
            "37/37 [==============================] - 4s 119ms/step - loss: 2.3124 - accuracy: 0.8677 - val_loss: 0.3799 - val_accuracy: 0.9835\n",
            "Epoch 3/50\n",
            "37/37 [==============================] - 4s 117ms/step - loss: 0.9107 - accuracy: 0.8831 - val_loss: 0.2711 - val_accuracy: 0.9835\n",
            "Epoch 4/50\n",
            "37/37 [==============================] - 4s 118ms/step - loss: 0.8507 - accuracy: 0.8831 - val_loss: 0.2371 - val_accuracy: 0.9835\n",
            "Epoch 5/50\n",
            "37/37 [==============================] - 4s 118ms/step - loss: 0.8312 - accuracy: 0.8831 - val_loss: 0.2038 - val_accuracy: 0.9834\n",
            "Epoch 6/50\n",
            "37/37 [==============================] - 4s 121ms/step - loss: 0.8207 - accuracy: 0.8832 - val_loss: 0.1873 - val_accuracy: 0.9832\n",
            "Epoch 7/50\n",
            "37/37 [==============================] - 4s 118ms/step - loss: 0.7934 - accuracy: 0.8832 - val_loss: 0.1798 - val_accuracy: 0.9834\n",
            "Epoch 8/50\n",
            "37/37 [==============================] - 4s 118ms/step - loss: 0.7757 - accuracy: 0.8832 - val_loss: 0.1620 - val_accuracy: 0.9835\n",
            "Epoch 9/50\n",
            "37/37 [==============================] - 4s 118ms/step - loss: 0.7765 - accuracy: 0.8841 - val_loss: 0.1554 - val_accuracy: 0.9835\n",
            "Epoch 10/50\n",
            "37/37 [==============================] - 4s 118ms/step - loss: 0.7676 - accuracy: 0.8840 - val_loss: 0.1552 - val_accuracy: 0.9836\n",
            "Epoch 11/50\n",
            "37/37 [==============================] - 4s 119ms/step - loss: 0.7704 - accuracy: 0.8846 - val_loss: 0.1500 - val_accuracy: 0.9832\n",
            "Epoch 12/50\n",
            "37/37 [==============================] - 4s 119ms/step - loss: 0.7645 - accuracy: 0.8846 - val_loss: 0.1451 - val_accuracy: 0.9835\n",
            "Epoch 13/50\n",
            "37/37 [==============================] - 4s 118ms/step - loss: 0.7711 - accuracy: 0.8845 - val_loss: 0.1393 - val_accuracy: 0.9834\n",
            "Epoch 14/50\n",
            "37/37 [==============================] - 5s 131ms/step - loss: 0.8898 - accuracy: 0.8848 - val_loss: 0.1777 - val_accuracy: 0.9836\n",
            "Epoch 15/50\n",
            "37/37 [==============================] - 4s 119ms/step - loss: 0.7750 - accuracy: 0.8853 - val_loss: 0.1538 - val_accuracy: 0.9834\n",
            "Epoch 16/50\n",
            "37/37 [==============================] - 4s 116ms/step - loss: 0.7580 - accuracy: 0.8857 - val_loss: 0.1421 - val_accuracy: 0.9834\n",
            "Epoch 17/50\n",
            "37/37 [==============================] - 4s 120ms/step - loss: 0.7537 - accuracy: 0.8861 - val_loss: 0.1365 - val_accuracy: 0.9834\n",
            "Epoch 18/50\n",
            "37/37 [==============================] - 4s 118ms/step - loss: 0.7554 - accuracy: 0.8858 - val_loss: 0.1364 - val_accuracy: 0.9834\n",
            "Epoch 19/50\n",
            "37/37 [==============================] - 4s 120ms/step - loss: 0.7495 - accuracy: 0.8858 - val_loss: 0.1342 - val_accuracy: 0.9833\n",
            "Epoch 20/50\n",
            "37/37 [==============================] - 4s 119ms/step - loss: 0.7476 - accuracy: 0.8860 - val_loss: 0.1372 - val_accuracy: 0.9834\n",
            "Epoch 21/50\n",
            "37/37 [==============================] - 4s 120ms/step - loss: 0.7501 - accuracy: 0.8864 - val_loss: 0.1340 - val_accuracy: 0.9837\n",
            "Epoch 22/50\n",
            "37/37 [==============================] - 4s 118ms/step - loss: 0.7457 - accuracy: 0.8865 - val_loss: 0.1349 - val_accuracy: 0.9838\n",
            "Epoch 23/50\n",
            "37/37 [==============================] - 4s 118ms/step - loss: 0.7423 - accuracy: 0.8864 - val_loss: 0.1338 - val_accuracy: 0.9835\n",
            "Epoch 24/50\n",
            "37/37 [==============================] - 4s 117ms/step - loss: 0.7401 - accuracy: 0.8866 - val_loss: 0.1320 - val_accuracy: 0.9837\n",
            "Epoch 25/50\n",
            "37/37 [==============================] - 4s 118ms/step - loss: 0.7373 - accuracy: 0.8865 - val_loss: 0.1320 - val_accuracy: 0.9837\n",
            "Epoch 26/50\n",
            "37/37 [==============================] - 4s 118ms/step - loss: 0.7415 - accuracy: 0.8864 - val_loss: 0.1310 - val_accuracy: 0.9837\n",
            "Epoch 27/50\n",
            "37/37 [==============================] - 4s 118ms/step - loss: 0.7420 - accuracy: 0.8867 - val_loss: 0.1334 - val_accuracy: 0.9837\n",
            "Epoch 28/50\n",
            "37/37 [==============================] - 4s 117ms/step - loss: 0.7397 - accuracy: 0.8863 - val_loss: 0.1379 - val_accuracy: 0.9838\n",
            "Epoch 29/50\n",
            "37/37 [==============================] - 4s 119ms/step - loss: 0.7405 - accuracy: 0.8867 - val_loss: 0.1362 - val_accuracy: 0.9832\n",
            "Epoch 30/50\n",
            "37/37 [==============================] - 4s 119ms/step - loss: 0.7342 - accuracy: 0.8865 - val_loss: 0.1352 - val_accuracy: 0.9837\n",
            "Epoch 31/50\n",
            "37/37 [==============================] - 4s 117ms/step - loss: 0.7368 - accuracy: 0.8867 - val_loss: 0.1344 - val_accuracy: 0.9838\n",
            "Epoch 32/50\n",
            "37/37 [==============================] - 4s 117ms/step - loss: 0.7329 - accuracy: 0.8866 - val_loss: 0.1372 - val_accuracy: 0.9839\n",
            "Epoch 33/50\n",
            "37/37 [==============================] - 4s 118ms/step - loss: 0.7309 - accuracy: 0.8865 - val_loss: 0.1345 - val_accuracy: 0.9838\n",
            "Epoch 34/50\n",
            "37/37 [==============================] - 4s 117ms/step - loss: 0.7273 - accuracy: 0.8869 - val_loss: 0.1333 - val_accuracy: 0.9838\n",
            "Epoch 35/50\n",
            "37/37 [==============================] - 4s 119ms/step - loss: 0.7265 - accuracy: 0.8868 - val_loss: 0.1340 - val_accuracy: 0.9840\n",
            "Epoch 36/50\n",
            "37/37 [==============================] - 4s 119ms/step - loss: 0.7256 - accuracy: 0.8868 - val_loss: 0.1354 - val_accuracy: 0.9839\n",
            "Epoch 37/50\n",
            "37/37 [==============================] - 4s 118ms/step - loss: 0.7253 - accuracy: 0.8871 - val_loss: 0.1335 - val_accuracy: 0.9839\n",
            "Epoch 38/50\n",
            "37/37 [==============================] - 4s 117ms/step - loss: 0.7219 - accuracy: 0.8869 - val_loss: 0.1371 - val_accuracy: 0.9840\n",
            "Epoch 39/50\n",
            "37/37 [==============================] - 4s 118ms/step - loss: 0.7190 - accuracy: 0.8873 - val_loss: 0.1373 - val_accuracy: 0.9838\n",
            "Epoch 40/50\n",
            "37/37 [==============================] - 4s 118ms/step - loss: 0.7179 - accuracy: 0.8871 - val_loss: 0.1339 - val_accuracy: 0.9838\n",
            "Epoch 41/50\n",
            "37/37 [==============================] - 4s 118ms/step - loss: 0.7142 - accuracy: 0.8875 - val_loss: 0.1368 - val_accuracy: 0.9839\n",
            "Epoch 42/50\n",
            "37/37 [==============================] - 4s 120ms/step - loss: 0.7129 - accuracy: 0.8879 - val_loss: 0.1389 - val_accuracy: 0.9840\n",
            "Epoch 43/50\n",
            "37/37 [==============================] - 4s 119ms/step - loss: 0.7136 - accuracy: 0.8880 - val_loss: 0.1416 - val_accuracy: 0.9840\n",
            "Epoch 44/50\n",
            "37/37 [==============================] - 4s 118ms/step - loss: 0.7098 - accuracy: 0.8882 - val_loss: 0.1381 - val_accuracy: 0.9842\n",
            "Epoch 45/50\n",
            "37/37 [==============================] - 4s 119ms/step - loss: 0.7057 - accuracy: 0.8887 - val_loss: 0.1394 - val_accuracy: 0.9840\n",
            "Epoch 46/50\n",
            "37/37 [==============================] - 4s 119ms/step - loss: 0.7032 - accuracy: 0.8887 - val_loss: 0.1410 - val_accuracy: 0.9841\n",
            "Epoch 47/50\n",
            "37/37 [==============================] - 5s 131ms/step - loss: 0.7026 - accuracy: 0.8890 - val_loss: 0.1412 - val_accuracy: 0.9840\n",
            "Epoch 48/50\n",
            "37/37 [==============================] - 4s 118ms/step - loss: 0.7015 - accuracy: 0.8891 - val_loss: 0.1417 - val_accuracy: 0.9841\n",
            "Epoch 49/50\n",
            "37/37 [==============================] - 4s 118ms/step - loss: 0.6989 - accuracy: 0.8889 - val_loss: 0.1422 - val_accuracy: 0.9843\n",
            "Epoch 50/50\n",
            "37/37 [==============================] - 4s 117ms/step - loss: 0.6975 - accuracy: 0.8890 - val_loss: 0.1440 - val_accuracy: 0.9842\n"
          ]
        }
      ],
      "source": [
        "training_model1.compile(optimizer=tf.keras.optimizers.Adam(clipvalue=0.1), loss='categorical_crossentropy', metrics=['accuracy'])#Training\n",
        "history2=training_model1.fit([Input_encoder_pad, Input_decoder_pad], target, batch_size = 4, epochs = 50, validation_split = 0.2)"
      ]
    },
    {
      "cell_type": "code",
      "execution_count": null,
      "metadata": {
        "colab": {
          "base_uri": "https://localhost:8080/",
          "height": 280
        },
        "id": "eP2tPyjHCiFZ",
        "outputId": "0df03198-4ccf-4fd3-e375-7f266093a188"
      },
      "outputs": [
        {
          "data": {
            "image/png": "[encoded data removed]",
            "text/plain": [
              "<Figure size 1080x288 with 2 Axes>"
            ]
          },
          "metadata": {
            "needs_background": "light"
          },
          "output_type": "display_data"
        }
      ],
      "source": [
        "epochs = 50\n",
        "\n",
        "fig, ax = plt.subplots(ncols=2, figsize=(15,4))\n",
        "ax[0].plot(range(1,epochs+1), history2.history['loss'],label='loss')\n",
        "ax[0].plot(range(1,epochs+1), history2.history['val_loss'],label='val_loss')\n",
        "ax[0].set_title('loss')\n",
        "ax[0].legend()\n",
        "ax[0].set_xlabel('epoch')\n",
        "\n",
        "ax[1].plot(range(1,epochs+1), history2.history['accuracy'],label='accuracy')\n",
        "ax[1].plot(range(1,epochs+1), history2.history['val_accuracy'],label='val_accuracy')\n",
        "ax[1].set_title('Accuracy')\n",
        "ax[1].legend()\n",
        "ax[1].set_xlabel('Epoch')\n",
        "plt.show()"
      ]
    },
    {
      "cell_type": "markdown",
      "metadata": {
        "id": "r8p6a1-vqZ0q"
      },
      "source": [
        "Berdasarkan grafik tersebut terjadi penurunan nilai akurasi dan kenaikkan nilai loss yang cukup signifikan pada model improvement. hal ini berarti architecture pada model pertama merupakan architecture yang terbaik untuk kasus ini. hal ini bisa disebabkan oleh beberapa hal. salah satunya penyebabnya adalah jumlah data yang dimasukkan kedalam model terlalu sedikit sehingga archicture model yang terlalu rumit (terlalu banyak layer) menyebabkan model tersebut mengalami overfitting. selain itu hal tersebut tidak mengartikan bahwa model improvement tidak bekerja dengan baik pada kasus ini akan tetapi jumlah data yang sedikit membuat model improvement tidak dapat bekerja maksimal."
      ]
    },
    {
      "cell_type": "markdown",
      "metadata": {
        "id": "R_oQGXRcru7q"
      },
      "source": [
        "# **6 - Model Inference**"
      ]
    },
    {
      "cell_type": "markdown",
      "metadata": {
        "id": "JL8E1SHIr4J8"
      },
      "source": [
        "Pada bagian ini digunakan architecture model sebelum improvement untuk menguji model dalam menjawab pertanyaan baru yang akan di berikan user"
      ]
    },
    {
      "cell_type": "markdown",
      "metadata": {
        "id": "mpyAQyw9sQST"
      },
      "source": [
        "Berikut architecture model encoder untuk model inference:"
      ]
    },
    {
      "cell_type": "code",
      "execution_count": null,
      "metadata": {
        "colab": {
          "base_uri": "https://localhost:8080/"
        },
        "id": "E6YFC0Gntmrb",
        "outputId": "3b898b6a-8c41-4a3f-cbbc-212c7db8be98"
      },
      "outputs": [
        {
          "name": "stdout",
          "output_type": "stream",
          "text": [
            "Model: \"model_2\"\n",
            "_________________________________________________________________\n",
            " Layer (type)                Output Shape              Param #   \n",
            "=================================================================\n",
            " input_1 (InputLayer)        [(None, None)]            0         \n",
            "                                                                 \n",
            " embedding (Embedding)       (None, None, 128)         49024     \n",
            "                                                                 \n",
            " lstm (LSTM)                 [(None, 256),             394240    \n",
            "                              (None, 256),                       \n",
            "                              (None, 256)]                       \n",
            "                                                                 \n",
            "=================================================================\n",
            "Total params: 443,264\n",
            "Trainable params: 443,264\n",
            "Non-trainable params: 0\n",
            "_________________________________________________________________\n"
          ]
        }
      ],
      "source": [
        "encoder_model = Model(encoder_inputs, encoder_states)\n",
        "encoder_model.summary()"
      ]
    },
    {
      "cell_type": "markdown",
      "metadata": {
        "id": "mhU4FZWPsY-J"
      },
      "source": [
        "Berikut architecture model decoder untuk model inference:"
      ]
    },
    {
      "cell_type": "code",
      "execution_count": null,
      "metadata": {
        "colab": {
          "base_uri": "https://localhost:8080/"
        },
        "id": "5WenE273yj85",
        "outputId": "bd34a4a0-7933-4fa1-cd73-56b67ad2440d"
      },
      "outputs": [
        {
          "name": "stdout",
          "output_type": "stream",
          "text": [
            "Model: \"model_3\"\n",
            "__________________________________________________________________________________________________\n",
            " Layer (type)                   Output Shape         Param #     Connected to                     \n",
            "==================================================================================================\n",
            " input_2 (InputLayer)           [(None, None)]       0           []                               \n",
            "                                                                                                  \n",
            " embedding_1 (Embedding)        (None, None, 128)    366976      ['input_2[0][0]']                \n",
            "                                                                                                  \n",
            " input_5 (InputLayer)           [(None, None)]       0           []                               \n",
            "                                                                                                  \n",
            " input_6 (InputLayer)           [(None, None)]       0           []                               \n",
            "                                                                                                  \n",
            " lstm_1 (LSTM)                  multiple             394240      ['embedding_1[0][0]',            \n",
            "                                                                  'input_5[0][0]',                \n",
            "                                                                  'input_6[0][0]']                \n",
            "                                                                                                  \n",
            " dense (Dense)                  (None, None, 2867)   736819      ['lstm_1[1][0]']                 \n",
            "                                                                                                  \n",
            "==================================================================================================\n",
            "Total params: 1,498,035\n",
            "Trainable params: 1,498,035\n",
            "Non-trainable params: 0\n",
            "__________________________________________________________________________________________________\n"
          ]
        }
      ],
      "source": [
        "decoder_state_input_h = tf.keras.layers.Input(shape=( None ,))\n",
        "decoder_state_input_c = tf.keras.layers.Input(shape=( None ,))\n",
        "\n",
        "decoder_states_inputs = [decoder_state_input_h, decoder_state_input_c]\n",
        "\n",
        "decoder_outputs, state_h, state_c = decoder_lstm(decoder_embedding , initial_state=decoder_states_inputs)\n",
        "decoder_states = [state_h, state_c]\n",
        "decoder_outputs = decoder_dense(decoder_outputs)\n",
        "\n",
        "decoder_model = tf.keras.models.Model(inputs = [decoder_inputs] + decoder_states_inputs, outputs = [decoder_outputs] + decoder_states)\n",
        "\n",
        "decoder_model.summary()"
      ]
    },
    {
      "cell_type": "code",
      "execution_count": null,
      "metadata": {
        "id": "XVpaU3fQ0b67"
      },
      "outputs": [],
      "source": [
        "encoder_model.trainable = False\n",
        "decoder_model.trainable = False"
      ]
    },
    {
      "cell_type": "code",
      "execution_count": null,
      "metadata": {
        "id": "ZrsJgrfE0hTD"
      },
      "outputs": [],
      "source": [
        "answer_words = dict((v,k) for k,v in decoder_token.word_index.items())"
      ]
    },
    {
      "cell_type": "code",
      "execution_count": null,
      "metadata": {
        "colab": {
          "base_uri": "https://localhost:8080/"
        },
        "id": "bjMl5t-50w8C",
        "outputId": "7cbfa5a6-3b84-43b6-ef97-3a4fe3abc731"
      },
      "outputs": [
        {
          "name": "stdout",
          "output_type": "stream",
          "text": [
            "you is the diabetes catch disorder a access disorder a access so or want and lives and 19 and the variety in can it if or the skills and or experiencing and distress and you be this and at way and making from can making from you use and the\n"
          ]
        }
      ],
      "source": [
        "inf = Encoder_token.texts_to_sequences([\"What does it mean to have a mental illness?\"])\n",
        "inf = pad_sequences( inf , maxlen=max_sen_encoder , padding='post' )\n",
        "\n",
        "state_inf = encoder_model.predict(inf,verbose=0)\n",
        "\n",
        "sentences = []\n",
        "target_seq = np.array([[decoder_token.word_index['start']]])\n",
        "while True:\n",
        "  dec_out, h, c = decoder_model.predict([target_seq] + state_inf,verbose=0)\n",
        "\n",
        "  wd_id = np.argmax(dec_out[0][0])+1\n",
        "  word = answer_words[wd_id]\n",
        "  sentences.append(word)\n",
        "\n",
        "  target_seq = np.array([[wd_id]])\n",
        "  state_inf = [h,c]\n",
        "\n",
        "  if word == 'end' or len(sentences)>=50:\n",
        "    break\n",
        "\n",
        "print(' '.join(sentences))"
      ]
    },
    {
      "cell_type": "markdown",
      "metadata": {
        "id": "lQrNXCVTsxNP"
      },
      "source": [
        "berdasarkan hasil model inference tersebut dapat diartikan bahwa model tersebut tidak dapat digunakan dalam pembuatan chatbot untuk menjawab pertanyaan - pertanyaan masyarakat seputar mental health dan covid-19. hal ini berarti model tersebut belum dapat membedakan setiap pertanyaan dan jawaban pertanyaaan tersebut. walaupun nilai akurasi model cukup tinggi dan nilai lost cukup rendah. akan tetapi perubahan nilai akurasi pada data validasi yang cukup kecil dapat memengaruhi keakurasi dari hasil prediksi model. perubahan yang cukup kecil itu berindikasi bahwa model tidak dapat mempelajari data dengan baik. selain itu, nilai akurasi pada validasi yang sama di beberapa epoch juga menyebabkan model tidak dapat mempelajari data dengan yang berdampak hasil prediksi dari model tersebut tidak akurat."
      ]
    },
    {
      "cell_type": "markdown",
      "metadata": {
        "id": "qu-2yOWWspdk"
      },
      "source": [
        "# **7 - Saving Model**"
      ]
    },
    {
      "cell_type": "code",
      "execution_count": null,
      "metadata": {
        "colab": {
          "base_uri": "https://localhost:8080/"
        },
        "id": "CTqo5uKT97yY",
        "outputId": "96756407-ea05-4ecc-e8b6-2ea36d3a3e61"
      },
      "outputs": [
        {
          "name": "stderr",
          "output_type": "stream",
          "text": [
            "WARNING:tensorflow:Compiled the loaded model, but the compiled metrics have yet to be built. `model.compile_metrics` will be empty until you train or evaluate the model.\n",
            "WARNING:tensorflow:Compiled the loaded model, but the compiled metrics have yet to be built. `model.compile_metrics` will be empty until you train or evaluate the model.\n"
          ]
        }
      ],
      "source": [
        "encoder_model.save('encoder_model_new1.h5')\n",
        "decoder_model.save('decoder_model_new1.h5')\n",
        "pickle.dump(Encoder_token, open('Encoder_token_new1.pkl', 'wb'))\n",
        "pickle.dump(answer_words, open('answer_words_new1.pkl', 'wb'))\n"
      ]
    },
    {
      "cell_type": "markdown",
      "metadata": {
        "id": "cATs2WJ2t14y"
      },
      "source": [
        "# **8 - Conclusion**"
      ]
    },
    {
      "cell_type": "markdown",
      "metadata": {
        "id": "JvF2Zx8wt-oV"
      },
      "source": [
        "Pada kasus ini, PT INIPEDIA meminta tim data scientist untuk membuat sebuah aplikasi chatbot yang dapat menjawab setiap pertanyaan masyarakat tentang mental health dan covid-19. berdasarkan proses pembuatan model buat chatbot dapat disimpulkan bahwa:\n",
        "1. **Model yang terbaik pada kasus ini merupakan Base Model**. hal ini dikarenakan jumlah data pada pembuatan model sangat sedikit sehingga model dengan architecture yang sederhana mampu menghasilkan nilai loss yang kecil dan nilai akurasi yang tinggi pada model.\n",
        "2. nilai loss pada data training di base model 0.3518 dengan akurasi 0.9259 (92.59%)\n",
        "3. nilai loss pada data validasi di base model 0.1205 dengan akurasi 0.9852 (98.52%)\n",
        "4. architecture terbaik untuk pembuatan chatbot, yaitu: encoder model (satu input layer, satu layer embedding dengan embedding initializer dan regularizer, satu hidden layer lstm dengan jumlah neuron 256, satu layer ouput dengan activation function softmax), dan decoder model (satu input layer, satu layer embedding dengan embedding initializer dan regularizer, satu hidden layer lstm dengan jumlah neuron 256, dan satu layer output dengan activation function softmax)\n",
        "5. optimizer yang digunakan pada base model ini rmsprop dengan jumlah epoch 4. \n",
        "\n",
        "berdasarkan hasil tersebut dapat disimpulkan bahwa model tersebut didapat digunakan untuk pembuatan chatbot dalam menjawab pertanyaan - pertanyaan user mengenai penyakit/kesehatan.\n",
        "\n",
        "Berikut rekomendasi yang dapat saya berikan untuk kasus ini:\n",
        "1. jika datanya sangat sedikit tidak disarankan untuk mengunakan model deep learning dalam pembuatan model chatbot.\n",
        "2. jika ingin tetap mengunakan model deep learning disarankan untuk membuat architecture model sesederhana mungkin dengan jumlah epoch sekecil mungkin. jika jumlah epochnya besar maka model akan kecepatan mempelajari data training sehingga menghasilkan nilai akurasi yang tetap pada data validasi (vanishing gradient)\n",
        "3. jika ingin tetap mengunakan model deep learning disarankan untuk membuat dictionary antara pertanyaan dengan jawaban pertanyaan untuk meminimalisir kesalahan atau jawaban yang tidak sesuai dengan pertanyaan user.\n",
        "4. tidak mengunakan learning rate. jika mengalami exploding gradient disarankan untuk memakai clip value dan optimizer adam.\n",
        "5. tidak disarankan mengunakan dropout dan disarankan mengunakan layer batch normalization dengan jumlah yang wajar.\n",
        "6. mengunakan batch size sekecil mungkin"
      ]
    }
  ],
  "metadata": {
    "accelerator": "GPU",
    "colab": {
      "collapsed_sections": [],
      "provenance": [],
      "toc_visible": true
    },
    "kernelspec": {
      "display_name": "Python 3.9.12 ('base')",
      "language": "python",
      "name": "python3"
    },
    "language_info": {
      "codemirror_mode": {
        "name": "ipython",
        "version": 3
      },
      "file_extension": ".py",
      "mimetype": "text/x-python",
      "name": "python",
      "nbconvert_exporter": "python",
      "pygments_lexer": "ipython3",
      "version": "3.9.12"
    },
    "vscode": {
      "interpreter": {
        "hash": "7679c2132d3f6ce38c9df14d554b39c06862b36a4e6689c81f9ae15bd0911d7d"
      }
    }
  },
  "nbformat": 4,
  "nbformat_minor": 0
}
